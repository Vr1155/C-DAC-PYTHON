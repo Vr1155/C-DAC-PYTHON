{
 "cells": [
  {
   "cell_type": "markdown",
   "id": "1c576a1d",
   "metadata": {},
   "source": [
    "# Looping in Python\n",
    "## for loops:\n",
    "A for loop is used for iterating over a sequence (list, tuple, dictionary, set, string).\n"
   ]
  },
  {
   "cell_type": "code",
   "execution_count": 3,
   "id": "47ffd8d9",
   "metadata": {},
   "outputs": [
    {
     "name": "stdout",
     "output_type": "stream",
     "text": [
      "Looping through a list: \n",
      "apple\n",
      "banana\n",
      "cherry\n",
      "Looping through a string: \n",
      "b\n",
      "a\n",
      "n\n",
      "a\n",
      "n\n",
      "a\n"
     ]
    }
   ],
   "source": [
    "fruits=[\"apple\", \"banana\", \"cherry\"]\n",
    "print(\"Looping through a list: \")\n",
    "for x in fruits:\n",
    "    print(x)"
   ]
  },
  {
   "cell_type": "code",
   "execution_count": 6,
   "id": "2f8f9769",
   "metadata": {},
   "outputs": [
    {
     "name": "stdout",
     "output_type": "stream",
     "text": [
      "Looping through a string: \n",
      "b\n",
      "a\n",
      "n\n",
      "a\n",
      "n\n",
      "a\n"
     ]
    }
   ],
   "source": [
    "print(\"Looping through a string: \")\n",
    "for x in \"banana\":\n",
    "    print(x)"
   ]
  },
  {
   "cell_type": "markdown",
   "id": "a2a070a4",
   "metadata": {},
   "source": [
    "## break statement:"
   ]
  },
  {
   "cell_type": "code",
   "execution_count": 5,
   "id": "0b1c356c",
   "metadata": {},
   "outputs": [
    {
     "name": "stdout",
     "output_type": "stream",
     "text": [
      "apple\n"
     ]
    }
   ],
   "source": [
    "# Exit the loop when x is \"banana\"\n",
    "fruits = ['apple', 'banana', 'cherry']\n",
    "for x in fruits:\n",
    "    if x == 'banana':\n",
    "        break\n",
    "    print(x)"
   ]
  },
  {
   "cell_type": "markdown",
   "id": "8dfb4062",
   "metadata": {},
   "source": [
    "## Continue statement:"
   ]
  },
  {
   "cell_type": "code",
   "execution_count": 8,
   "id": "309a82d0",
   "metadata": {},
   "outputs": [
    {
     "name": "stdout",
     "output_type": "stream",
     "text": [
      "apple\n",
      "cherry\n"
     ]
    }
   ],
   "source": [
    "# Use continue to not print banana:\n",
    "fruits = [\"apple\", \"banana\", \"cherry\"]\n",
    "for x in fruits:\n",
    "    if x == \"banana\":\n",
    "        continue\n",
    "    print(x)"
   ]
  },
  {
   "cell_type": "markdown",
   "id": "03aaacff",
   "metadata": {},
   "source": [
    "## The range() function:"
   ]
  },
  {
   "cell_type": "markdown",
   "id": "5fd4cc72",
   "metadata": {},
   "source": [
    "## Using the range() function"
   ]
  },
  {
   "cell_type": "code",
   "execution_count": 9,
   "id": "34d5b15b",
   "metadata": {},
   "outputs": [
    {
     "name": "stdout",
     "output_type": "stream",
     "text": [
      "0\n",
      "1\n",
      "2\n",
      "3\n",
      "4\n",
      "5\n"
     ]
    }
   ],
   "source": [
    "for x in range(6):\n",
    "    print(x)"
   ]
  },
  {
   "cell_type": "markdown",
   "id": "4e8e62dc",
   "metadata": {},
   "source": [
    "# The while loop:"
   ]
  },
  {
   "cell_type": "code",
   "execution_count": 10,
   "id": "461b6a67",
   "metadata": {},
   "outputs": [
    {
     "name": "stdout",
     "output_type": "stream",
     "text": [
      "1\n",
      "2\n",
      "3\n",
      "4\n",
      "5\n"
     ]
    }
   ],
   "source": [
    "i = 1\n",
    "while i<6:\n",
    "    print(i)\n",
    "    i+=1"
   ]
  }
 ],
 "metadata": {
  "kernelspec": {
   "display_name": "Python 3 (ipykernel)",
   "language": "python",
   "name": "python3"
  },
  "language_info": {
   "codemirror_mode": {
    "name": "ipython",
    "version": 3
   },
   "file_extension": ".py",
   "mimetype": "text/x-python",
   "name": "python",
   "nbconvert_exporter": "python",
   "pygments_lexer": "ipython3",
   "version": "3.9.13"
  }
 },
 "nbformat": 4,
 "nbformat_minor": 5
}
