{
 "cells": [
  {
   "cell_type": "markdown",
   "id": "00f87f40-009a-4ef6-98f9-2c036b1611c8",
   "metadata": {},
   "source": [
    "# Session 2: Tuples"
   ]
  },
  {
   "cell_type": "code",
   "execution_count": 9,
   "id": "022906ae-4cfe-4e59-8400-7d31677e3333",
   "metadata": {},
   "outputs": [],
   "source": [
    "mytuple=(\"car\", \"bus\",\"truck\")"
   ]
  },
  {
   "cell_type": "markdown",
   "id": "a2768b97-844d-4309-8e78-c81d0009201f",
   "metadata": {},
   "source": [
    "- Tuples are used to store multiple items in a single variable.\n",
    "- A tuple is a collection which is ordered and **unchangeable**.\n",
    "- Tuples are written with round brackets."
   ]
  },
  {
   "cell_type": "code",
   "execution_count": 10,
   "id": "24a1d14d-8ba3-42bd-8d19-5193058fa2c8",
   "metadata": {},
   "outputs": [
    {
     "name": "stdout",
     "output_type": "stream",
     "text": [
      "('car', 'bus', 'truck')\n"
     ]
    }
   ],
   "source": [
    "mytuple=(\"car\",\"bus\",\"truck\")\n",
    "print(mytuple)"
   ]
  },
  {
   "cell_type": "markdown",
   "id": "f4f0a05e-9a1f-445b-8263-3f187e0112a6",
   "metadata": {},
   "source": [
    "- Tuple items are ordered, unchangeable, and allow duplicate values.\n",
    "- Tuple items are indexed, the first item has index[0], the second item has index[1], etc.\n",
    "- Tuples are unchangeable, meaning that we cannot change, add or remove items after the tuple has been created.\n",
    "- Since tuples are indexed, they can have items with the same value"
   ]
  },
  {
   "cell_type": "code",
   "execution_count": 11,
   "id": "98c33ff9-228f-4be4-a05f-f2aa199a4598",
   "metadata": {},
   "outputs": [
    {
     "name": "stdout",
     "output_type": "stream",
     "text": [
      "('car', 'bus', 'truck', 'bus', 'truck')\n"
     ]
    }
   ],
   "source": [
    "mytuple=(\"car\",\"bus\",\"truck\",\"bus\",\"truck\")\n",
    "print(mytuple)"
   ]
  },
  {
   "cell_type": "markdown",
   "id": "d6eca34b-9f55-4316-bbde-9280719c5634",
   "metadata": {},
   "source": [
    "## Tuple Length"
   ]
  },
  {
   "cell_type": "markdown",
   "id": "5bd41ffa-3d73-42e0-a478-282e941bf23b",
   "metadata": {},
   "source": [
    "To determine how many items a tuple has, use the len() function:"
   ]
  },
  {
   "cell_type": "code",
   "execution_count": 15,
   "id": "7e177bc2-b0f8-4d15-aa8e-89f56ca40ea4",
   "metadata": {},
   "outputs": [
    {
     "name": "stdout",
     "output_type": "stream",
     "text": [
      "3\n"
     ]
    }
   ],
   "source": [
    "mytuple=(\"car\",\"bus\",\"truck\")\n",
    "print(len(mytuple))"
   ]
  },
  {
   "cell_type": "markdown",
   "id": "9b86c168-5efd-4e96-afc0-0a63a4a1eaf6",
   "metadata": {},
   "source": [
    "## Create tuple with one item\n",
    "To create a tuple with only one item, you have to add a comma after the item, otherwise python will not recognize it as tuple."
   ]
  },
  {
   "cell_type": "code",
   "execution_count": 13,
   "id": "97054be0-b9b1-4e96-a3af-ad4581243d8e",
   "metadata": {},
   "outputs": [
    {
     "name": "stdout",
     "output_type": "stream",
     "text": [
      "<class 'tuple'>\n"
     ]
    }
   ],
   "source": [
    "mytuple = (\"car\",)\n",
    "print(type(mytuple))"
   ]
  },
  {
   "cell_type": "markdown",
   "id": "ebfd15ab-6898-4bd9-9028-5fd5d4dbb5e8",
   "metadata": {},
   "source": [
    "## Not a tuple"
   ]
  },
  {
   "cell_type": "code",
   "execution_count": 16,
   "id": "442eaa8b-47fc-4f0e-99cc-1f0c60e6c5c1",
   "metadata": {},
   "outputs": [
    {
     "name": "stdout",
     "output_type": "stream",
     "text": [
      "<class 'str'>\n"
     ]
    }
   ],
   "source": [
    "mytuple=(\"car\")\n",
    "print(type(mytuple))"
   ]
  },
  {
   "cell_type": "code",
   "execution_count": 19,
   "id": "7ee2f659-e407-442b-a381-6fc5bbd03dd5",
   "metadata": {},
   "outputs": [
    {
     "name": "stdout",
     "output_type": "stream",
     "text": [
      "('car', 'bus', 'truck')\n",
      "(1, 5, 7, 9, 3)\n",
      "(True, False, False)\n",
      "(1.1, 2.2, 3.3)\n"
     ]
    }
   ],
   "source": [
    "tuple1=(\"car\",\"bus\",\"truck\")\n",
    "tuple2=(1,5,7,9,3)\n",
    "tuple3=(True,False,False)\n",
    "tuple4=(1.1,2.2,3.3)\n",
    "\n",
    "print(tuple1)\n",
    "print(tuple2)\n",
    "print(tuple3)\n",
    "print(tuple4)"
   ]
  },
  {
   "cell_type": "markdown",
   "id": "d696d871-25ca-4529-8077-775a5cacc695",
   "metadata": {},
   "source": [
    "## Tuple with multiple different data types"
   ]
  },
  {
   "cell_type": "markdown",
   "id": "88fd4731-507a-44c4-a217-2553681b4c6f",
   "metadata": {},
   "source": [
    "A tuple can contain different data types:"
   ]
  },
  {
   "cell_type": "code",
   "execution_count": null,
   "id": "0f256ded-e91a-47f7-91a0-b20540ef7e07",
   "metadata": {},
   "outputs": [],
   "source": [
    "tuple1=(\"abc\",34,True,40,\"male\")"
   ]
  },
  {
   "cell_type": "markdown",
   "id": "9e4132a9-8849-4a8d-9cc9-7adac3f3471c",
   "metadata": {},
   "source": [
    "### type()\n",
    "\n",
    "\n",
    "From python's perspective, tuples are defined as objects with the data type \"tuple\":\n",
    "<class 'tuple'>"
   ]
  },
  {
   "cell_type": "code",
   "execution_count": 20,
   "id": "42baf61c-33c4-4e1c-bac8-d16b7744cb63",
   "metadata": {},
   "outputs": [
    {
     "name": "stdout",
     "output_type": "stream",
     "text": [
      "<class 'tuple'>\n"
     ]
    }
   ],
   "source": [
    "print(type(tuple1))"
   ]
  },
  {
   "cell_type": "markdown",
   "id": "270e8326-6300-4828-aa7c-9e752251a336",
   "metadata": {},
   "source": [
    "## Access tuple items"
   ]
  },
  {
   "cell_type": "code",
   "execution_count": 22,
   "id": "f6114d22-599f-474d-98c5-d3d765273ca1",
   "metadata": {},
   "outputs": [
    {
     "name": "stdout",
     "output_type": "stream",
     "text": [
      "bus\n"
     ]
    }
   ],
   "source": [
    "# printing 2nd item in the tuple\n",
    "mytuple=(\"car\",\"bus\",\"truck\")\n",
    "print(mytuple[1])"
   ]
  },
  {
   "cell_type": "markdown",
   "id": "a3c0b1d1-29a0-4508-ba90-ba2ad6dbf49b",
   "metadata": {},
   "source": [
    "## Negative indexing"
   ]
  },
  {
   "cell_type": "markdown",
   "id": "7063b5c8-5723-4577-be03-eabe781540cc",
   "metadata": {},
   "source": [
    "- Negative indexing means start from the end.\n",
    "- -1 refers to the last item, -2 refers to the second last item etc."
   ]
  },
  {
   "cell_type": "markdown",
   "id": "e4232de7-7643-420d-aee3-c2003cd94384",
   "metadata": {},
   "source": [
    "## Range of Indexes"
   ]
  },
  {
   "cell_type": "markdown",
   "id": "f19bc560-2815-40df-8402-7574feb7aa2f",
   "metadata": {},
   "source": [
    "- You can specify a range of indexes by specifying where to start and where to end the range.\n",
    "- When specifying a range, the return value will be a new tuple with the specified items."
   ]
  },
  {
   "cell_type": "code",
   "execution_count": 23,
   "id": "df802f72-dc1d-497e-a091-5bcd98123a36",
   "metadata": {},
   "outputs": [
    {
     "name": "stdout",
     "output_type": "stream",
     "text": [
      "('cherry', 'orange', 'kiwi')\n"
     ]
    }
   ],
   "source": [
    "thistuple=(\"apple\", \"banana\", \"cherry\", \"orange\", \"kiwi\", \"melon\", \"mango\")\n",
    "print(thistuple[2:5])"
   ]
  },
  {
   "cell_type": "markdown",
   "id": "9dec7e10-1a9f-4c88-8ffc-b3ca3994077d",
   "metadata": {},
   "source": [
    "- This will return the items from position 2 to 5.\n",
    "- Remember that the first item is position 0,\n",
    "- and note that the item in position 5 is NOT included\n",
    "- This means that range is [2,5) which means it is 2 inclusive and 5 exclusive"
   ]
  },
  {
   "cell_type": "markdown",
   "id": "6a9ba5e6-2926-4057-bd88-a1250c7dbc27",
   "metadata": {},
   "source": [
    "## Check if item exists\n",
    "\n",
    "## Note: This question could come in assignment or module exam"
   ]
  },
  {
   "cell_type": "code",
   "execution_count": 24,
   "id": "fefba06b-0de2-465a-b262-eee86feb641d",
   "metadata": {},
   "outputs": [
    {
     "name": "stdout",
     "output_type": "stream",
     "text": [
      "Yes, 'car' is in the vehicles tuple\n"
     ]
    }
   ],
   "source": [
    "mytuple=(\"car\",\"bus\",\"truck\")\n",
    "if \"car\" in mytuple:\n",
    "    print(\"Yes, 'car' is in the vehicles tuple\")"
   ]
  },
  {
   "cell_type": "markdown",
   "id": "5cfb1203-9d78-4586-b215-4b756f3e59c9",
   "metadata": {},
   "source": [
    "- Once a tuple is created, you cannot change its values. Tuples are **unchangeable**, or **immutable** as its also called.\n",
    "- But there is a workaround. You can convert the tuple into a list, change the list, and convert the list back into a tuple."
   ]
  },
  {
   "cell_type": "code",
   "execution_count": 29,
   "id": "c101deca-88c3-4e81-8498-5399c5fe1ae9",
   "metadata": {},
   "outputs": [
    {
     "name": "stdout",
     "output_type": "stream",
     "text": [
      "('apple', 'banana', 'cherry')\n",
      "['apple', 'kiwi', 'cherry']\n",
      "('apple', 'kiwi', 'cherry')\n"
     ]
    }
   ],
   "source": [
    "x=(\"apple\",\"banana\",\"cherry\")\n",
    "print(x)\n",
    "\n",
    "y=list(x)\n",
    "y[1]=\"kiwi\"\n",
    "print(y)\n",
    "\n",
    "x=tuple(y)\n",
    "\n",
    "print(x)"
   ]
  },
  {
   "cell_type": "code",
   "execution_count": 34,
   "id": "3af939d4-35a1-4122-8a32-6804eed19b47",
   "metadata": {},
   "outputs": [
    {
     "name": "stdout",
     "output_type": "stream",
     "text": [
      "('apple', 'banana', 'cherry')\n",
      "['apple', 'banana', 'cherry', 'orange']\n",
      "('apple', 'banana', 'cherry', 'orange')\n"
     ]
    }
   ],
   "source": [
    "# Convert the tuple into a list, add \"orange\", and convert it into tuple again\n",
    "\n",
    "thistuple=(\"apple\", \"banana\", \"cherry\")\n",
    "print(thistuple)\n",
    "\n",
    "y=list(thistuple)\n",
    "y.append(\"orange\")\n",
    "print(y)\n",
    "\n",
    "thistuple=tuple(y)\n",
    "print(thistuple)"
   ]
  },
  {
   "cell_type": "markdown",
   "id": "f1b57fd6-d7e1-4198-b4e2-e83ba59a0d37",
   "metadata": {},
   "source": [
    "## Joining two tuples"
   ]
  },
  {
   "cell_type": "code",
   "execution_count": 35,
   "id": "ede562e2-298c-4f07-ba2f-d6638e02f805",
   "metadata": {},
   "outputs": [
    {
     "name": "stdout",
     "output_type": "stream",
     "text": [
      "('apple', 'banana', 'cherry', 'orange')\n"
     ]
    }
   ],
   "source": [
    "thistuple = (\"apple\", \"banana\", \"cherry\")\n",
    "y = (\"orange\",)\n",
    "thistuple += y\n",
    "print(thistuple)\n"
   ]
  },
  {
   "cell_type": "markdown",
   "id": "b14cad97-62a9-4fc7-892f-0777c3c99779",
   "metadata": {},
   "source": [
    "## Removing elements from a tuple"
   ]
  },
  {
   "cell_type": "code",
   "execution_count": 38,
   "id": "16092e31-df3c-4757-be7e-2ef1b752cfda",
   "metadata": {},
   "outputs": [
    {
     "name": "stdout",
     "output_type": "stream",
     "text": [
      "('apple', 'banana', 'cherry')\n",
      "['banana', 'cherry']\n",
      "('banana', 'cherry')\n"
     ]
    }
   ],
   "source": [
    "thistuple = (\"apple\", \"banana\", \"cherry\")\n",
    "print(thistuple)\n",
    "\n",
    "y = list(thistuple)\n",
    "y.remove(\"apple\")\n",
    "print(y)\n",
    "\n",
    "thistuple = tuple(y)\n",
    "print(thistuple)"
   ]
  },
  {
   "cell_type": "markdown",
   "id": "d1bcbec9-3cbb-47e1-9814-9ec0aa8f9e4b",
   "metadata": {},
   "source": [
    "## Deleting the tuple entirely"
   ]
  },
  {
   "cell_type": "code",
   "execution_count": 40,
   "id": "782d324a-9999-4219-adc1-e21a3c9232d7",
   "metadata": {},
   "outputs": [
    {
     "ename": "NameError",
     "evalue": "name 'thistuple' is not defined",
     "output_type": "error",
     "traceback": [
      "\u001b[1;31m---------------------------------------------------------------------------\u001b[0m",
      "\u001b[1;31mNameError\u001b[0m                                 Traceback (most recent call last)",
      "\u001b[1;32m~\\AppData\\Local\\Temp\\ipykernel_4740\\1678713935.py\u001b[0m in \u001b[0;36m<module>\u001b[1;34m\u001b[0m\n\u001b[0;32m      1\u001b[0m \u001b[0mthistuple\u001b[0m \u001b[1;33m=\u001b[0m \u001b[1;33m(\u001b[0m\u001b[1;34m\"apple\"\u001b[0m\u001b[1;33m,\u001b[0m \u001b[1;34m\"banana\"\u001b[0m\u001b[1;33m,\u001b[0m \u001b[1;34m\"cherry\"\u001b[0m\u001b[1;33m)\u001b[0m\u001b[1;33m\u001b[0m\u001b[1;33m\u001b[0m\u001b[0m\n\u001b[0;32m      2\u001b[0m \u001b[1;32mdel\u001b[0m \u001b[0mthistuple\u001b[0m\u001b[1;33m\u001b[0m\u001b[1;33m\u001b[0m\u001b[0m\n\u001b[1;32m----> 3\u001b[1;33m \u001b[0mprint\u001b[0m\u001b[1;33m(\u001b[0m\u001b[0mthistuple\u001b[0m\u001b[1;33m)\u001b[0m  \u001b[1;31m# this will raise a NameError because the tuple no longer exists\u001b[0m\u001b[1;33m\u001b[0m\u001b[1;33m\u001b[0m\u001b[0m\n\u001b[0m",
      "\u001b[1;31mNameError\u001b[0m: name 'thistuple' is not defined"
     ]
    }
   ],
   "source": [
    "thistuple = (\"apple\", \"banana\", \"cherry\")\n",
    "del thistuple\n",
    "print(thistuple)  # this will raise a NameError because the tuple no longer exists"
   ]
  },
  {
   "cell_type": "markdown",
   "id": "052cdee7-8a8e-4134-9d43-29534f04be7e",
   "metadata": {},
   "source": [
    "## Unpacking a tuple\n",
    "When we create a tuple, we normally assign values to it. this is called \"packing\" a tuple:"
   ]
  },
  {
   "cell_type": "code",
   "execution_count": 41,
   "id": "0941570f-8ff5-49bf-be8d-0349fe444c6d",
   "metadata": {},
   "outputs": [],
   "source": [
    "fruits=(\"apple\", \"banana\", \"cherry\")"
   ]
  },
  {
   "cell_type": "markdown",
   "id": "43e23d41-8b5e-4806-82fa-427df78a6e2a",
   "metadata": {},
   "source": [
    "But, in python we are also allowed to extract the values back into variables. This is called \"unpacking\"."
   ]
  },
  {
   "cell_type": "code",
   "execution_count": 44,
   "id": "62a7851a-da1c-43c3-989b-2ac61f4be73d",
   "metadata": {},
   "outputs": [
    {
     "name": "stdout",
     "output_type": "stream",
     "text": [
      "apple\n",
      "banana\n",
      "cherry\n",
      "('apple', 'banana', 'cherry')\n"
     ]
    }
   ],
   "source": [
    "fruits=(\"apple\", \"banana\", \"cherry\")\n",
    "\n",
    "(green, yellow, red) = fruits\n",
    "\n",
    "print(green)\n",
    "print(yellow)\n",
    "print(red)\n",
    "\n",
    "print(fruits)"
   ]
  },
  {
   "cell_type": "markdown",
   "id": "dfd6306f-32c7-4b54-9a6f-4778806380e8",
   "metadata": {},
   "source": [
    "## Using Asterisk *\n",
    "If the number of variables is less than the number of values, you can add an * to the variable name and the rest of the values will be assigned to the variable as a list:"
   ]
  },
  {
   "cell_type": "code",
   "execution_count": 45,
   "id": "615de201-414d-4510-b3f8-c07b3e2df5ce",
   "metadata": {},
   "outputs": [
    {
     "name": "stdout",
     "output_type": "stream",
     "text": [
      "apple\n",
      "banana\n",
      "['cherry', 'strawberry', 'raspberry']\n"
     ]
    }
   ],
   "source": [
    "fruits=(\"apple\",\"banana\",\"cherry\",\"strawberry\",\"raspberry\")\n",
    "\n",
    "(green,yellow,*red)=fruits\n",
    "\n",
    "print(green)\n",
    "print(yellow)\n",
    "print(red)"
   ]
  },
  {
   "cell_type": "code",
   "execution_count": 47,
   "id": "76963856-d216-414d-8e0d-b516ebefb5a0",
   "metadata": {},
   "outputs": [
    {
     "name": "stdout",
     "output_type": "stream",
     "text": [
      "apple\n",
      "['mango', 'papaya', 'pineapple', 'cherry']\n",
      "['cherry', 'strawberry', 'raspberry']\n"
     ]
    }
   ],
   "source": [
    "fruits=(\"apple\",\"mango\",\"papaya\",\"pineapple\",\"cherry\")\n",
    "(green,*tropic) = fruits\n",
    "\n",
    "print(green)\n",
    "print(tropic)\n",
    "print(red)"
   ]
  },
  {
   "cell_type": "markdown",
   "id": "88835dfb-ff9d-47ac-ace5-66574e346914",
   "metadata": {},
   "source": [
    "## Loop through a tuple\n",
    "You can loop through the tuple items by using for and while loops."
   ]
  },
  {
   "cell_type": "markdown",
   "id": "6e7aa3d9-6458-4751-97fa-37e9aaf4c064",
   "metadata": {},
   "source": [
    "## Join two tuples\n",
    "To join two or more tuples you can use the + operator:"
   ]
  },
  {
   "cell_type": "code",
   "execution_count": 48,
   "id": "b7342503-bcfe-4338-ad7e-c68d348ce77e",
   "metadata": {},
   "outputs": [
    {
     "name": "stdout",
     "output_type": "stream",
     "text": [
      "('a', 'b', 'c', 1, 2, 3)\n"
     ]
    }
   ],
   "source": [
    "tuple1=(\"a\",\"b\",\"c\")\n",
    "tuple2=(1,2,3)\n",
    "\n",
    "tuple3=tuple1+tuple2\n",
    "print(tuple3)"
   ]
  },
  {
   "cell_type": "markdown",
   "id": "5529de8d-e1c4-4954-bc61-c01ecb71e31f",
   "metadata": {},
   "source": [
    "## Mutliplying (Repeating) a tuple"
   ]
  },
  {
   "cell_type": "code",
   "execution_count": 49,
   "id": "cd02e39d-08f6-41ac-93f9-a7e9505f3932",
   "metadata": {},
   "outputs": [
    {
     "name": "stdout",
     "output_type": "stream",
     "text": [
      "('apple', 'banana', 'cherry', 'apple', 'banana', 'cherry')\n"
     ]
    }
   ],
   "source": [
    "fruits=(\"apple\", \"banana\", \"cherry\")\n",
    "mytuple=fruits*2\n",
    "\n",
    "print(mytuple)"
   ]
  },
  {
   "cell_type": "markdown",
   "id": "cc93274e-9d2d-46a5-9cb3-37e70164cd59",
   "metadata": {},
   "source": [
    "# Session 3: Dictionaries"
   ]
  },
  {
   "cell_type": "markdown",
   "id": "81dceaa7-b2ac-4cf1-9d56-2ffc2981ffc9",
   "metadata": {},
   "source": [
    "1. Dictionaries\n",
    "2. Introducing Dictionaries\n",
    "3. Defining Dictionaries\n",
    "4. Modifying Dictionaries\n",
    "5. Deleting items from Dictionary"
   ]
  },
  {
   "cell_type": "markdown",
   "id": "df8d8cdd-e6a9-434a-bb77-02809e7ebb1f",
   "metadata": {},
   "source": [
    "## Dictionaries\n",
    "- Dictionaries are used to store data values in key:value pairs.\n",
    "- A dictionary is a collection which is ordered*, changeable and do not allow duplicates.\n",
    "- As of Python version 3.7, dicitonaries are ordered. In python 3.6 and earlier, dictionaries are unordered.\n",
    "- Dictionaries are written with curly bracket, and have keys and values"
   ]
  },
  {
   "cell_type": "markdown",
   "id": "422cd39f-386c-45a1-b0ad-3e6e8dccadad",
   "metadata": {},
   "source": [
    "## Introducing Dictionaries\n",
    "## Defining Dictionaries"
   ]
  },
  {
   "cell_type": "code",
   "execution_count": 51,
   "id": "be78d630-fe9d-4309-8aa3-653d1e55cab3",
   "metadata": {},
   "outputs": [
    {
     "name": "stdout",
     "output_type": "stream",
     "text": [
      "{'brand': 'Honda', 'model': 'City', 'year': 1990}\n"
     ]
    }
   ],
   "source": [
    "thisdict = {\n",
    "    \"brand\": \"Honda\",\n",
    "    \"model\": \"City\",\n",
    "    \"year\": 1990\n",
    "}\n",
    "print(thisdict)"
   ]
  },
  {
   "cell_type": "markdown",
   "id": "a7e73fca-44a3-4d8b-866f-8c70938fa8c3",
   "metadata": {},
   "source": [
    "## Dictionary items:\n",
    "- Dictionary items are ordered, changeable and do not allow duplicates.\n",
    "- Dictionary items are presented in key:value pairs, and can be referred to by using the key name."
   ]
  },
  {
   "cell_type": "code",
   "execution_count": 52,
   "id": "5b2e5576-1de7-4e01-a7bf-610a4a7b9e3e",
   "metadata": {},
   "outputs": [
    {
     "name": "stdout",
     "output_type": "stream",
     "text": [
      "Ford\n"
     ]
    }
   ],
   "source": [
    "# Print the \"brand\" value of the dictionary:\n",
    "thisdict = {\n",
    "    \"brand\": \"Ford\",\n",
    "    \"model\": \"Mushtang\",\n",
    "    \"year\": 2020\n",
    "}\n",
    "\n",
    "print(thisdict[\"brand\"])"
   ]
  },
  {
   "cell_type": "code",
   "execution_count": 92,
   "id": "953dac06-4457-40be-a02f-129168e11d75",
   "metadata": {},
   "outputs": [
    {
     "name": "stdout",
     "output_type": "stream",
     "text": [
      "{'brand': 'Ford', 'model': 'Mushtang', 'year': 2020}\n"
     ]
    }
   ],
   "source": [
    "# Duplicate values will overwrite existing values:\n",
    "\n",
    "thisdict = {\n",
    "    \"brand\": \"Ford\",\n",
    "    \"model\": \"Mushtang\",\n",
    "    \"year\": 1964,\n",
    "    \"year\": 2020\n",
    "}\n",
    "\n",
    "print(thisdict)"
   ]
  },
  {
   "cell_type": "markdown",
   "id": "f2244f82-1b61-45f1-86c3-a32daab81f23",
   "metadata": {},
   "source": [
    "## Dictionary lenght\n",
    "To determine how many items a dictionary has, use the len() function:"
   ]
  },
  {
   "cell_type": "code",
   "execution_count": 75,
   "id": "86d4a187-83bf-41ad-a6cb-cf603abbc64b",
   "metadata": {},
   "outputs": [
    {
     "name": "stdout",
     "output_type": "stream",
     "text": [
      "3\n"
     ]
    }
   ],
   "source": [
    "# print the number of items of the dictionary:\n",
    "print(len(thisdict))"
   ]
  },
  {
   "cell_type": "markdown",
   "id": "43d6b941-d2f5-4769-a360-33460608e351",
   "metadata": {},
   "source": [
    "## The dict() constructor\n",
    "It is also possible to use the dict() constructor to make a dictionary."
   ]
  },
  {
   "cell_type": "markdown",
   "id": "f933b84b-1301-4225-b145-0741400a3481",
   "metadata": {},
   "source": [
    "## Get Keys\n",
    "The keys() method will return a list of all keys in the dictionary."
   ]
  },
  {
   "cell_type": "code",
   "execution_count": 76,
   "id": "82e29591-b6a9-4146-8a5d-5d7d87919cda",
   "metadata": {},
   "outputs": [
    {
     "name": "stdout",
     "output_type": "stream",
     "text": [
      "dict_keys(['brand', 'model', 'year'])\n"
     ]
    }
   ],
   "source": [
    "# get a list of keys:\n",
    "x = thisdict.keys()\n",
    "print(x)"
   ]
  },
  {
   "cell_type": "markdown",
   "id": "2f3ae8b3-2e19-405f-8b32-2be59b7772f8",
   "metadata": {},
   "source": [
    "## Modifying Dictionaries\n"
   ]
  },
  {
   "cell_type": "code",
   "execution_count": 77,
   "id": "33e05577-4232-4200-8067-ac78619928c5",
   "metadata": {},
   "outputs": [
    {
     "name": "stdout",
     "output_type": "stream",
     "text": [
      "dict_keys(['brand', 'model', 'year'])\n",
      "dict_keys(['brand', 'model', 'year', 'color'])\n"
     ]
    }
   ],
   "source": [
    "# Add a new item to the original dictionary, and see that the keys list gets updated as well:\n",
    "car={\n",
    "    \"brand\": \"Ford\",\n",
    "    \"model\": \"Mustang\",\n",
    "    \"year\": 1964\n",
    "}\n",
    "\n",
    "x=car.keys()\n",
    "\n",
    "print(x)  # before the change\n",
    "\n",
    "car[\"color\"] = \"white\"\n",
    "\n",
    "print(x)  # after the change"
   ]
  },
  {
   "cell_type": "markdown",
   "id": "516e39be-418c-4fe2-a39f-355324987563",
   "metadata": {},
   "source": [
    "## Get values\n",
    "The values() method will return a list of all values in the dictionary."
   ]
  },
  {
   "cell_type": "code",
   "execution_count": 78,
   "id": "56c045a8-74e2-4fd9-bbba-9b818e70563a",
   "metadata": {},
   "outputs": [
    {
     "name": "stdout",
     "output_type": "stream",
     "text": [
      "dict_values(['Ford', 'Mushtang', 2020])\n"
     ]
    }
   ],
   "source": [
    "# Get a list of values:\n",
    "x=thisdict.values()\n",
    "print(x)"
   ]
  },
  {
   "cell_type": "markdown",
   "id": "75c5f729-e409-4731-8ccc-c9d39497431d",
   "metadata": {},
   "source": [
    "## Get items\n",
    "The items() method will return a list of all items in the dictionary. With key-value pairs properly displayed with separation."
   ]
  },
  {
   "cell_type": "code",
   "execution_count": 79,
   "id": "14b0dde3-b2d0-4361-8e22-356ad5c89654",
   "metadata": {},
   "outputs": [
    {
     "name": "stdout",
     "output_type": "stream",
     "text": [
      "dict_items([('brand', 'Ford'), ('model', 'Mushtang'), ('year', 2020)])\n"
     ]
    }
   ],
   "source": [
    "x=thisdict.items()\n",
    "print(x)"
   ]
  },
  {
   "cell_type": "markdown",
   "id": "3cc4099c-3ace-4b33-90f7-9c7b3f21cd9f",
   "metadata": {},
   "source": [
    "## Check if key exists:"
   ]
  },
  {
   "cell_type": "code",
   "execution_count": 96,
   "id": "faaab006-a8c5-40e2-ae5e-7a7cc9ca9bb3",
   "metadata": {},
   "outputs": [
    {
     "name": "stdout",
     "output_type": "stream",
     "text": [
      "Brand name is present and its value is: Ford\n"
     ]
    }
   ],
   "source": [
    "if \"brand\" in thisdict.keys():\n",
    "    print(\"Brand name is present and its value is:\", thisdict[\"brand\"])"
   ]
  },
  {
   "cell_type": "markdown",
   "id": "a0ebad05-a0f8-4de8-9b2b-241e0c0f6305",
   "metadata": {},
   "source": [
    "## Deleting items from Dictionaries\n",
    "- pop() -> removes the item with specified key name\n",
    "- popitem() -> removes the last inserted item (In <3.7 removes a random item)\n",
    "- del -> removes the item with the specified key name\n",
    "- clear() -> deletes the entire dictionary completely"
   ]
  },
  {
   "cell_type": "code",
   "execution_count": 95,
   "id": "729b2ad3-cdd2-44de-bc5b-750de26d9f32",
   "metadata": {},
   "outputs": [
    {
     "name": "stdout",
     "output_type": "stream",
     "text": [
      "{'brand': 'Ford', 'year': 2020}\n"
     ]
    }
   ],
   "source": [
    "thisdict = {\n",
    "    \"brand\": \"Ford\",\n",
    "    \"model\": \"Mushtang\",\n",
    "    \"year\": 2020\n",
    "}\n",
    "\n",
    "thisdict.pop(\"model\")\n",
    "print(thisdict)"
   ]
  },
  {
   "cell_type": "code",
   "execution_count": 81,
   "id": "dda9f5c3-46ac-4760-96bb-c48f31f14d86",
   "metadata": {},
   "outputs": [
    {
     "name": "stdout",
     "output_type": "stream",
     "text": [
      "{'brand': 'Ford'}\n"
     ]
    }
   ],
   "source": [
    "thisdict.popitem()\n",
    "print(thisdict)"
   ]
  },
  {
   "cell_type": "code",
   "execution_count": 82,
   "id": "9303ed4b-94f3-443c-9766-4a19c8369679",
   "metadata": {},
   "outputs": [
    {
     "name": "stdout",
     "output_type": "stream",
     "text": [
      "{}\n"
     ]
    }
   ],
   "source": [
    "del thisdict[\"brand\"]\n",
    "print(thisdict)"
   ]
  },
  {
   "cell_type": "code",
   "execution_count": 83,
   "id": "9e46742e-b295-46d9-b139-d89a8f63a092",
   "metadata": {},
   "outputs": [
    {
     "name": "stdout",
     "output_type": "stream",
     "text": [
      "{}\n"
     ]
    }
   ],
   "source": [
    "car={\n",
    "    \"brand\": \"Ford\",\n",
    "    \"model\": \"Mustang\",\n",
    "    \"year\": 1964\n",
    "}\n",
    "\n",
    "car.clear()\n",
    "print(car)\n"
   ]
  },
  {
   "cell_type": "markdown",
   "id": "baa76a14-65b6-4670-b57a-20f1078b309f",
   "metadata": {},
   "source": [
    "# Lab Questions:\n",
    "\n",
    "## Q1: WAP to demonstrate if, elif and else by checking largest of 3 numbers.\n",
    "## Q2: WAP to check whether a number is perfect or not. (Perfect number is a number whose sum of all divisors is equal to the number itself)\n",
    "## Q3: WAP to read multi-word string and print them in alphabetical order.\n",
    "## Q4: Note down this dictionary:\n",
    "### car = {\"i10\": \"Grey\", \"Kushaq\": \"Red\", \"i20\": \"White\"}\n",
    "## a. How many cars are there in dictionary\n",
    "## b. change color of kushaq to black\n",
    "## c. remove the car i10\n",
    "## Q5: WAP to sort the elements of tuple\n",
    "## Q6: WAP to implement contact book using dictionaries (Name, contact number, address, locality, email, pincode)\n"
   ]
  },
  {
   "cell_type": "code",
   "execution_count": 110,
   "id": "51e97a6f-a85c-4d69-a42a-354a50fcb529",
   "metadata": {},
   "outputs": [
    {
     "name": "stdin",
     "output_type": "stream",
     "text": [
      "Enter the number a: 3\n",
      "Enter the number b: 2\n",
      "Enter the number c: 3\n"
     ]
    },
    {
     "name": "stdout",
     "output_type": "stream",
     "text": [
      "Cant decide\n"
     ]
    }
   ],
   "source": [
    "# Question 1:\n",
    "\n",
    "def greatest_number(a, b, c):\n",
    "    if a > b and a > c:\n",
    "        print(\"Greatest number is 'a'\")\n",
    "    elif b > a and b > c:\n",
    "        print(\"Greatest number is 'b'\")\n",
    "    elif c > a and c > b:\n",
    "        print(\"Greatest number is 'c'\")\n",
    "    elif a == b and b == c:\n",
    "        print(\"All numbers are equal\")\n",
    "    else:\n",
    "        print(\"Cant decide\")\n",
    "    \n",
    "a=input(\"Enter the number a:\")\n",
    "b=input(\"Enter the number b:\")\n",
    "c=input(\"Enter the number c:\")\n",
    "\n",
    "greatest_number(int(a),int(b),int(c))"
   ]
  },
  {
   "cell_type": "code",
   "execution_count": 9,
   "id": "1b99b428-0fbf-48cb-aa60-2ead08ae0cb9",
   "metadata": {},
   "outputs": [
    {
     "name": "stdout",
     "output_type": "stream",
     "text": [
      "{'i10': 'Grey', 'Kushaq': 'Red', 'i20': 'White'}\n"
     ]
    }
   ],
   "source": [
    "# Question 4:\n",
    "\n",
    "car = {\n",
    "    \"i10\": \"Grey\",\n",
    "    \"Kushaq\": \"Red\",\n",
    "    \"i20\": \"White\"\n",
    "}\n",
    "print(car)"
   ]
  },
  {
   "cell_type": "code",
   "execution_count": 10,
   "id": "594f40e6-181f-4ded-a751-909bd537209c",
   "metadata": {},
   "outputs": [
    {
     "name": "stdout",
     "output_type": "stream",
     "text": [
      "3\n"
     ]
    }
   ],
   "source": [
    "# a.)\n",
    "print(len(car))"
   ]
  },
  {
   "cell_type": "code",
   "execution_count": 11,
   "id": "29ccaf82-d3f5-4c1d-86e5-6c30cd427f0f",
   "metadata": {},
   "outputs": [
    {
     "name": "stdout",
     "output_type": "stream",
     "text": [
      "{'i10': 'Grey', 'Kushaq': 'Black', 'i20': 'White'}\n"
     ]
    }
   ],
   "source": [
    "# b.) \n",
    "car[\"Kushaq\"] = \"Black\"\n",
    "print(car)"
   ]
  },
  {
   "cell_type": "code",
   "execution_count": 12,
   "id": "4be9b3d7-0a47-4055-85c0-cd263437ed2a",
   "metadata": {},
   "outputs": [
    {
     "name": "stdout",
     "output_type": "stream",
     "text": [
      "{'Kushaq': 'Black', 'i20': 'White'}\n"
     ]
    }
   ],
   "source": [
    "# c.)\n",
    "car.pop(\"i10\")\n",
    "print(car)"
   ]
  },
  {
   "cell_type": "code",
   "execution_count": 16,
   "id": "82b19eff-5bb4-451a-bcca-8ddea68d53af",
   "metadata": {},
   "outputs": [
    {
     "name": "stdout",
     "output_type": "stream",
     "text": [
      "(5, 32, 52, 234, 423, 523)\n"
     ]
    }
   ],
   "source": [
    "# Question 5:\n",
    "nums = (5,32,234,523,423,52)\n",
    "num_list=list(nums)\n",
    "list.sort(num_list)\n",
    "nums = tuple(num_list)\n",
    "print(nums)"
   ]
  }
 ],
 "metadata": {
  "kernelspec": {
   "display_name": "Python 3 (ipykernel)",
   "language": "python",
   "name": "python3"
  },
  "language_info": {
   "codemirror_mode": {
    "name": "ipython",
    "version": 3
   },
   "file_extension": ".py",
   "mimetype": "text/x-python",
   "name": "python",
   "nbconvert_exporter": "python",
   "pygments_lexer": "ipython3",
   "version": "3.9.13"
  }
 },
 "nbformat": 4,
 "nbformat_minor": 5
}
