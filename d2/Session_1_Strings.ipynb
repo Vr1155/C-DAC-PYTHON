{
 "cells": [
  {
   "cell_type": "markdown",
   "id": "d85fd66d",
   "metadata": {},
   "source": [
    "# Strings:"
   ]
  },
  {
   "cell_type": "markdown",
   "id": "f1f36f76",
   "metadata": {},
   "source": [
    "## Multiline strings:"
   ]
  },
  {
   "cell_type": "code",
   "execution_count": 4,
   "id": "92dadafe",
   "metadata": {},
   "outputs": [
    {
     "name": "stdout",
     "output_type": "stream",
     "text": [
      "\n",
      "Good morning,\n",
      "text written in multiline\n",
      "with in quotes\n",
      "\n",
      "\n",
      "multiline string \n",
      "with \n",
      "triple quotes.\n",
      "\n"
     ]
    }
   ],
   "source": [
    "str=\"\"\"\n",
    "Good morning,\n",
    "text written in multiline\n",
    "with in quotes\n",
    "\"\"\"\n",
    "print(str)\n",
    "str1='''\n",
    "multiline string \n",
    "with \n",
    "triple quotes.\n",
    "'''\n",
    "print(str1)"
   ]
  },
  {
   "cell_type": "markdown",
   "id": "a4552448",
   "metadata": {},
   "source": [
    "## Strings are arrays:"
   ]
  },
  {
   "cell_type": "markdown",
   "id": "06bfe153",
   "metadata": {},
   "source": [
    "- Strings in python are arrays of bytes representing Unicode characters.\n",
    "- A single character is a string with length of 1. There are no char data types in python.\n",
    "- Square brackets can be used to access elements of the string."
   ]
  },
  {
   "cell_type": "code",
   "execution_count": 2,
   "id": "17cf11dd",
   "metadata": {},
   "outputs": [
    {
     "name": "stdout",
     "output_type": "stream",
     "text": [
      "e\n"
     ]
    }
   ],
   "source": [
    "a=\"Hello, World!\"\n",
    "print(a[1])"
   ]
  },
  {
   "cell_type": "markdown",
   "id": "85a71f61",
   "metadata": {},
   "source": [
    "## Check string:\n",
    "Using keyword in, we can check if a certain phrase or char is present in a string"
   ]
  },
  {
   "cell_type": "code",
   "execution_count": 11,
   "id": "602e4d45",
   "metadata": {},
   "outputs": [
    {
     "name": "stdout",
     "output_type": "stream",
     "text": [
      "True\n",
      "Yes, 'day' is present.\n"
     ]
    }
   ],
   "source": [
    "txt = \"Today is a good day!\"\n",
    "print(\"good\" in txt)\n",
    "\n",
    "if \"day\" in txt:\n",
    "    print(\"Yes, 'day' is present.\")"
   ]
  },
  {
   "cell_type": "markdown",
   "id": "89c4b51b",
   "metadata": {},
   "source": [
    "## String length:\n",
    "To check if a certain phrase or character is present in a string, we can use the keywork \"in\"."
   ]
  },
  {
   "cell_type": "code",
   "execution_count": 26,
   "id": "1f3f7ef2",
   "metadata": {},
   "outputs": [
    {
     "name": "stdout",
     "output_type": "stream",
     "text": [
      "13\n"
     ]
    }
   ],
   "source": [
    "a=\"Hello, World!\"\n",
    "print(len(a))"
   ]
  },
  {
   "cell_type": "markdown",
   "id": "0ad20435",
   "metadata": {},
   "source": [
    "## Check if NOT\n",
    "To check if a certain phrase or character is NOT present in a string, we can use the keyword not in."
   ]
  },
  {
   "cell_type": "code",
   "execution_count": 13,
   "id": "4ac1d167",
   "metadata": {},
   "outputs": [
    {
     "name": "stdout",
     "output_type": "stream",
     "text": [
      "True\n",
      "No, 'bad' is NOT present.\n"
     ]
    }
   ],
   "source": [
    "txt = \"Today is a good day\"\n",
    "print(\"bad\" not in txt)\n",
    "if \"bad\" not in txt:\n",
    "    print(\"No, 'bad' is NOT present.\")"
   ]
  },
  {
   "cell_type": "markdown",
   "id": "6fa2c86d",
   "metadata": {},
   "source": [
    "## Slicing strings\n",
    "- You can return a range of characters by using the slice syntax.\n",
    "- Specify the start index and the end index, separated by a colon, to return a part of the string."
   ]
  },
  {
   "cell_type": "code",
   "execution_count": 15,
   "id": "6f893838",
   "metadata": {},
   "outputs": [
    {
     "name": "stdout",
     "output_type": "stream",
     "text": [
      "llo\n",
      "Hello\n",
      "llo, World!\n",
      "orl\n"
     ]
    }
   ],
   "source": [
    "# Get the characters from position 2 to position 5 (not included):\n",
    "b = \"Hello, World!\"\n",
    "print(b[2:5]) #llo\n",
    "\n",
    "print(b[:5]) #Hello\n",
    "\n",
    "print(b[2:]) #llo, World!\n",
    "\n",
    "# Get the characters: from \"o\" in \"World!\" (position -5) \n",
    "# To, but not included: \"d\" in \"World!\" (position -2):\n",
    "print(b[-5:-2])\n"
   ]
  },
  {
   "cell_type": "markdown",
   "id": "5bf15670",
   "metadata": {},
   "source": [
    "## Basic Operations"
   ]
  },
  {
   "cell_type": "code",
   "execution_count": 17,
   "id": "879e1f9a",
   "metadata": {},
   "outputs": [
    {
     "name": "stdout",
     "output_type": "stream",
     "text": [
      "HELLO, WORLD!\n",
      "hello, world!\n"
     ]
    }
   ],
   "source": [
    "a=\"Hello, World!\"\n",
    "print(a.upper())\n",
    "print(a.lower())"
   ]
  },
  {
   "cell_type": "markdown",
   "id": "66545852",
   "metadata": {},
   "source": [
    "## Strip() function:\n",
    "\n",
    "When a developer wishes to remove characters or whitespaces from the beginning or end of a string, \n",
    "the Strip() function in Python comes in handy. Let’s take a closer look at it: \n",
    "\n",
    "The strip() function assists in removing characters from the beginning or end of a string for characters supplied as arguments to the strip() function ().\n",
    "If the string has no whitespaces and the characters argument is not supplied, the string is returned as is.\n",
    "It is also beneficial to eliminate whitespaces from the beginning and end of the text.\n",
    "If the string contains whitespaces and no character arguments are supplied, the string will be returned after discretizing the whitespaces."
   ]
  },
  {
   "cell_type": "code",
   "execution_count": 18,
   "id": "e12632ce",
   "metadata": {},
   "outputs": [
    {
     "name": "stdout",
     "output_type": "stream",
     "text": [
      "Hello, World!\n"
     ]
    }
   ],
   "source": [
    "b=\"     Hello, World!     \"\n",
    "print(a.strip()) #returns \"Hello, World!\""
   ]
  },
  {
   "cell_type": "markdown",
   "id": "2d743630",
   "metadata": {},
   "source": [
    "## replace() and split()\n",
    " - The replace() method replaces a string with another string:\n",
    " - The split() method splits the string into substrings if it finds instance of the separator/delimiter\n",
    "\n"
   ]
  },
  {
   "cell_type": "code",
   "execution_count": 19,
   "id": "fb220532",
   "metadata": {},
   "outputs": [
    {
     "name": "stdout",
     "output_type": "stream",
     "text": [
      "Jello, World!\n"
     ]
    }
   ],
   "source": [
    "a=\"Hello, World!\"\n",
    "print(a.replace(\"H\", \"J\"))"
   ]
  },
  {
   "cell_type": "code",
   "execution_count": 21,
   "id": "51ae12a8",
   "metadata": {},
   "outputs": [
    {
     "name": "stdout",
     "output_type": "stream",
     "text": [
      "['Hello', ' World!']\n"
     ]
    }
   ],
   "source": [
    "a=\"Hello, World!\"\n",
    "print(a.split(\",\")) #returns [\"Hello\", \"World!\"]"
   ]
  },
  {
   "cell_type": "markdown",
   "id": "467938fe",
   "metadata": {},
   "source": [
    "## String concat"
   ]
  },
  {
   "cell_type": "code",
   "execution_count": 33,
   "id": "09d656d5",
   "metadata": {},
   "outputs": [
    {
     "name": "stdout",
     "output_type": "stream",
     "text": [
      "Hello World\n"
     ]
    }
   ],
   "source": [
    "a=\"Hello\"\n",
    "b=\"World\"\n",
    "c = a + \" \" + b\n",
    "print(c)"
   ]
  },
  {
   "cell_type": "markdown",
   "id": "7bba4ac7",
   "metadata": {},
   "source": [
    "## String Format\n",
    "The format() method takes the passed arguments, formats them, and places them in the string where the placeholders {} are:"
   ]
  },
  {
   "cell_type": "code",
   "execution_count": 23,
   "id": "289a57cd",
   "metadata": {},
   "outputs": [
    {
     "name": "stdout",
     "output_type": "stream",
     "text": [
      "My name is John, and I am 36\n"
     ]
    }
   ],
   "source": [
    "age = 36\n",
    "txt = \"My name is John, and I am {}\"\n",
    "print(txt.format(age))"
   ]
  },
  {
   "cell_type": "code",
   "execution_count": 24,
   "id": "60f28ac1",
   "metadata": {},
   "outputs": [
    {
     "name": "stdout",
     "output_type": "stream",
     "text": [
      "I want 3 pieces of item 567 for 49.95 dollars.\n"
     ]
    }
   ],
   "source": [
    "quantity=3\n",
    "itemno=567\n",
    "price=49.95\n",
    "myorder=\"I want {} pieces of item {} for {} dollars.\"\n",
    "print(myorder.format(quantity, itemno, price))"
   ]
  },
  {
   "cell_type": "markdown",
   "id": "118a5c2f",
   "metadata": {},
   "source": [
    "You can use index numbers {0} to be sure the arguments are placed in the correct placeholders:"
   ]
  },
  {
   "cell_type": "code",
   "execution_count": 30,
   "id": "b92b01bc",
   "metadata": {},
   "outputs": [
    {
     "name": "stdout",
     "output_type": "stream",
     "text": [
      "I want 3 pieces of item 567 for 49.95 dollars.\n"
     ]
    }
   ],
   "source": [
    "myorder=\"I want {1} pieces of item {2} for {0} dollars.\"\n",
    "print(myorder.format(price, quantity, itemno))"
   ]
  },
  {
   "cell_type": "markdown",
   "id": "0cbdd6a0",
   "metadata": {},
   "source": [
    "## Escape Character"
   ]
  },
  {
   "cell_type": "code",
   "execution_count": 32,
   "id": "d795e9c9",
   "metadata": {},
   "outputs": [
    {
     "name": "stdout",
     "output_type": "stream",
     "text": [
      "We are the so-called \"Vikings\" from the north.\n"
     ]
    }
   ],
   "source": [
    "# txt = \"We are the so-called \"Vikings\" from the north.\"    # will give error\n",
    "\n",
    "\n",
    "txt = \"We are the so-called \\\"Vikings\\\" from the north.\"\n",
    "print(txt)"
   ]
  },
  {
   "cell_type": "markdown",
   "id": "aea6b41a",
   "metadata": {},
   "source": [
    "## There are many more string methods in slides.\n",
    "\n",
    "## Note: All string methods return new values. They do not change the original string."
   ]
  }
 ],
 "metadata": {
  "kernelspec": {
   "display_name": "Python 3 (ipykernel)",
   "language": "python",
   "name": "python3"
  },
  "language_info": {
   "codemirror_mode": {
    "name": "ipython",
    "version": 3
   },
   "file_extension": ".py",
   "mimetype": "text/x-python",
   "name": "python",
   "nbconvert_exporter": "python",
   "pygments_lexer": "ipython3",
   "version": "3.9.13"
  }
 },
 "nbformat": 4,
 "nbformat_minor": 5
}
