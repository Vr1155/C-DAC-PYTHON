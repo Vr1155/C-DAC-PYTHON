{
 "cells": [
  {
   "cell_type": "markdown",
   "id": "71b5b00a",
   "metadata": {},
   "source": [
    "# First program"
   ]
  },
  {
   "cell_type": "code",
   "execution_count": 1,
   "id": "e4ece780",
   "metadata": {},
   "outputs": [
    {
     "name": "stdout",
     "output_type": "stream",
     "text": [
      "Hello world\n"
     ]
    }
   ],
   "source": [
    "print(\"Hello world\")"
   ]
  },
  {
   "cell_type": "code",
   "execution_count": 3,
   "id": "adf1c7b3",
   "metadata": {},
   "outputs": [
    {
     "name": "stdout",
     "output_type": "stream",
     "text": [
      "Enter your name: Vaibhav\n",
      "Entered name is: Vaibhav\n"
     ]
    }
   ],
   "source": [
    "# console I/O\n",
    "def print_name():\n",
    "    name=input(\"Enter your name: \")\n",
    "    print(\"Entered name is: \" + name) \n",
    "    \n",
    "print_name()"
   ]
  },
  {
   "cell_type": "markdown",
   "id": "0378b909",
   "metadata": {},
   "source": [
    "# Basic calculator app in python"
   ]
  },
  {
   "cell_type": "code",
   "execution_count": 11,
   "id": "f9c10b0f",
   "metadata": {},
   "outputs": [
    {
     "name": "stdout",
     "output_type": "stream",
     "text": [
      "Input first number: 3\n",
      "Input second number: 2\n",
      "Input operation: /\n",
      "Division:  1.5\n"
     ]
    }
   ],
   "source": [
    "\n",
    "def calculator():\n",
    "    a=input(\"Input first number: \")\n",
    "    b=input(\"Input second number: \")\n",
    "    op=input(\"Input operation: \")\n",
    "    if op == '+':5\n",
    "        print(\"Addition: \", int(a)+int(b))\n",
    "    elif op == '-':\n",
    "        print(\"Subtraction: \", int(a)-int(b))\n",
    "    elif op == '*':\n",
    "        print(\"Multiplication: \", int(a)*int(b))\n",
    "    elif op == '/':\n",
    "        print(\"Division: \", int(a)/int(b))\n",
    "    else:\n",
    "        print(\"Operation not available\")\n",
    "\n",
    "calculator()"
   ]
  },
  {
   "cell_type": "markdown",
   "id": "416acaaf",
   "metadata": {},
   "source": [
    "# Comparision operators:"
   ]
  },
  {
   "cell_type": "code",
   "execution_count": 13,
   "id": "4008f104",
   "metadata": {},
   "outputs": [
    {
     "name": "stdout",
     "output_type": "stream",
     "text": [
      "Four is greater than two!\n"
     ]
    }
   ],
   "source": [
    "if 4>2:\n",
    "    print(\"Four is greater than two!\")"
   ]
  },
  {
   "cell_type": "markdown",
   "id": "0751f803",
   "metadata": {},
   "source": [
    "# Comments in python"
   ]
  },
  {
   "cell_type": "code",
   "execution_count": null,
   "id": "bd75f77d",
   "metadata": {},
   "outputs": [],
   "source": [
    "# this is a single line comment\n",
    "\n",
    "\"\"\"\n",
    "this \n",
    "is \n",
    "a\n",
    "multiple\n",
    "line\n",
    "comment\n",
    "\"\"\""
   ]
  },
  {
   "cell_type": "markdown",
   "id": "8a8ad69c",
   "metadata": {},
   "source": [
    "# Variables in python"
   ]
  },
  {
   "cell_type": "code",
   "execution_count": 14,
   "id": "a2cbf386",
   "metadata": {},
   "outputs": [
    {
     "name": "stdout",
     "output_type": "stream",
     "text": [
      "5\n",
      "Ram\n"
     ]
    }
   ],
   "source": [
    "x = 5\n",
    "y = \"Ram\"\n",
    "print(x)\n",
    "print(y)"
   ]
  },
  {
   "cell_type": "code",
   "execution_count": 16,
   "id": "7998a87d",
   "metadata": {},
   "outputs": [
    {
     "name": "stdout",
     "output_type": "stream",
     "text": [
      "Seth\n"
     ]
    }
   ],
   "source": [
    "x = 4 # x is of type int\n",
    "x = \"Seth\" # x is of type str\n",
    "print(x)"
   ]
  },
  {
   "cell_type": "markdown",
   "id": "e8cbf675",
   "metadata": {},
   "source": [
    "# Types in python:"
   ]
  },
  {
   "cell_type": "code",
   "execution_count": 19,
   "id": "fb5fc221",
   "metadata": {},
   "outputs": [
    {
     "name": "stdout",
     "output_type": "stream",
     "text": [
      "<class 'int'>\n",
      "<class 'str'>\n",
      "4\n",
      "Seth\n"
     ]
    }
   ],
   "source": [
    "x = 5\n",
    "y = \"Ram\"\n",
    "print(type(x))\n",
    "print(type(y))\n",
    "\n",
    "x = \"Ram\"\n",
    "# is the same as \n",
    "x = 'Ram'\n",
    "# reminder: there is no char data type in python.\n",
    "\n",
    "#this will create two variables:\n",
    "a=4\n",
    "A=\"Seth\"\n",
    "# a will not overwrite A\n",
    "print(a)\n",
    "print(A)"
   ]
  },
  {
   "cell_type": "markdown",
   "id": "b2c10668",
   "metadata": {},
   "source": [
    "# Type casting in python:"
   ]
  },
  {
   "cell_type": "code",
   "execution_count": 18,
   "id": "5ccef207",
   "metadata": {},
   "outputs": [
    {
     "name": "stdout",
     "output_type": "stream",
     "text": [
      "3 <class 'str'>\n",
      "3 <class 'int'>\n",
      "3.0 <class 'float'>\n"
     ]
    }
   ],
   "source": [
    "x = str(3) # x will be '3'\n",
    "y = int(3) # y will be 3\n",
    "z = float(3) # z will be 3.0\n",
    "print(x, type(x))\n",
    "print(y, type(y))\n",
    "print(z, type(z))"
   ]
  },
  {
   "cell_type": "markdown",
   "id": "e9940033",
   "metadata": {},
   "source": [
    "# Valid variable names"
   ]
  },
  {
   "cell_type": "code",
   "execution_count": 20,
   "id": "aa178b71",
   "metadata": {},
   "outputs": [],
   "source": [
    "_my_var = \"Ram\"\n",
    "myVar = \"Ram\"\n",
    "MYVAR = \"Ram\"\n",
    "myvar2 = \"Ram\"\n",
    "myvar = \"Ram\"\n",
    "my_var = \"Ram\""
   ]
  },
  {
   "cell_type": "markdown",
   "id": "8011d172",
   "metadata": {},
   "source": [
    "# Many values to multiple variables:"
   ]
  },
  {
   "cell_type": "code",
   "execution_count": 21,
   "id": "23462ded",
   "metadata": {},
   "outputs": [
    {
     "name": "stdout",
     "output_type": "stream",
     "text": [
      "Bat\n",
      "Hat\n",
      "Car\n"
     ]
    }
   ],
   "source": [
    "x,y,z='Bat','Hat','Car'\n",
    "print(x)\n",
    "print(y)\n",
    "print(z)"
   ]
  },
  {
   "cell_type": "markdown",
   "id": "2b06d858",
   "metadata": {},
   "source": [
    "# One value to multiple variables:"
   ]
  },
  {
   "cell_type": "code",
   "execution_count": 23,
   "id": "81ca975a",
   "metadata": {},
   "outputs": [
    {
     "name": "stdout",
     "output_type": "stream",
     "text": [
      "Car\n",
      "Car\n",
      "Car\n"
     ]
    }
   ],
   "source": [
    "x=y=z='Car'\n",
    "print(x)\n",
    "print(y)\n",
    "print(z)"
   ]
  },
  {
   "cell_type": "markdown",
   "id": "a618ef17",
   "metadata": {},
   "source": [
    "# In print(), when you try to combine a string and a number with + operator,\n",
    "# Python will output the following:\n",
    "## TypeError: unsupported operand type(s) for +: 'int' and 'str'"
   ]
  },
  {
   "cell_type": "code",
   "execution_count": 22,
   "id": "56bfa414",
   "metadata": {},
   "outputs": [
    {
     "ename": "TypeError",
     "evalue": "unsupported operand type(s) for +: 'int' and 'str'",
     "output_type": "error",
     "traceback": [
      "\u001b[1;31m---------------------------------------------------------------------------\u001b[0m",
      "\u001b[1;31mTypeError\u001b[0m                                 Traceback (most recent call last)",
      "\u001b[1;32m~\\AppData\\Local\\Temp\\ipykernel_4448\\1285490999.py\u001b[0m in \u001b[0;36m<module>\u001b[1;34m\u001b[0m\n\u001b[0;32m      1\u001b[0m \u001b[0mx\u001b[0m \u001b[1;33m=\u001b[0m \u001b[1;36m5\u001b[0m\u001b[1;33m\u001b[0m\u001b[1;33m\u001b[0m\u001b[0m\n\u001b[0;32m      2\u001b[0m \u001b[0my\u001b[0m \u001b[1;33m=\u001b[0m \u001b[1;34m\"Ram\"\u001b[0m\u001b[1;33m\u001b[0m\u001b[1;33m\u001b[0m\u001b[0m\n\u001b[1;32m----> 3\u001b[1;33m \u001b[0mprint\u001b[0m\u001b[1;33m(\u001b[0m\u001b[0mx\u001b[0m \u001b[1;33m+\u001b[0m \u001b[0my\u001b[0m\u001b[1;33m)\u001b[0m \u001b[1;31m# Error\u001b[0m\u001b[1;33m\u001b[0m\u001b[1;33m\u001b[0m\u001b[0m\n\u001b[0m",
      "\u001b[1;31mTypeError\u001b[0m: unsupported operand type(s) for +: 'int' and 'str'"
     ]
    }
   ],
   "source": [
    "x = 5\n",
    "y = \"Ram\"\n",
    "print(x + y) # TypeError"
   ]
  },
  {
   "cell_type": "markdown",
   "id": "cc76cf45",
   "metadata": {},
   "source": [
    "# How to print different data types together in python"
   ]
  },
  {
   "cell_type": "code",
   "execution_count": 24,
   "id": "6039b2ab",
   "metadata": {},
   "outputs": [
    {
     "name": "stdout",
     "output_type": "stream",
     "text": [
      "5 Ram\n"
     ]
    }
   ],
   "source": [
    "x = 5\n",
    "y = 'Ram'\n",
    "print(x, y)"
   ]
  },
  {
   "cell_type": "markdown",
   "id": "752a8ed7",
   "metadata": {},
   "source": [
    "# Create a variable outside a function\n",
    "# and use it inside the function"
   ]
  },
  {
   "cell_type": "code",
   "execution_count": 25,
   "id": "8074e633",
   "metadata": {},
   "outputs": [
    {
     "name": "stdout",
     "output_type": "stream",
     "text": [
      "Today is Friday\n"
     ]
    }
   ],
   "source": [
    "x='Friday'\n",
    "def myfunc():\n",
    "    print(\"Today is \"+x)\n",
    "    \n",
    "myfunc()"
   ]
  },
  {
   "cell_type": "markdown",
   "id": "a4aaa4e7",
   "metadata": {},
   "source": [
    "# Some more code to execute:"
   ]
  },
  {
   "cell_type": "code",
   "execution_count": 26,
   "id": "89731c3d",
   "metadata": {},
   "outputs": [
    {
     "name": "stdout",
     "output_type": "stream",
     "text": [
      "Hi\n",
      "Hello\n",
      "Good\n",
      "Hi\n",
      "Hi\n",
      "Hi\n"
     ]
    },
    {
     "data": {
      "text/plain": [
       "'\\nprint(x)\\nprint(type(x))\\nprint(y)\\nprint(type(z))\\nprint(type(a))\\nprint(b)\\n'"
      ]
     },
     "execution_count": 26,
     "metadata": {},
     "output_type": "execute_result"
    }
   ],
   "source": [
    "x=5\n",
    "y=\"Hi\"\n",
    "y2='Hi'\n",
    "x=\"Hello\"\n",
    "z=str(3)\n",
    "a=int(3)\n",
    "b=float(3)\n",
    "x1,y1,z1=\"Hi\",\"Hello\",\"Good\"\n",
    "print(x1)\n",
    "print(y1)\n",
    "print(z1)\n",
    "x1=y1=z1=\"Hi\"\n",
    "\n",
    "print(x1)\n",
    "print(y1)\n",
    "print(z1)\n",
    "\n",
    "\"\"\"\n",
    "print(x)\n",
    "print(type(x))\n",
    "print(y)\n",
    "print(type(z))\n",
    "print(type(a))\n",
    "print(b)\n",
    "\"\"\"\n"
   ]
  },
  {
   "cell_type": "markdown",
   "id": "52bcc8c5",
   "metadata": {},
   "source": [
    "# Some more code:"
   ]
  },
  {
   "cell_type": "code",
   "execution_count": null,
   "id": "bb9ee636",
   "metadata": {},
   "outputs": [],
   "source": [
    "x = \"Hi\"\n",
    "y=5\n",
    "#print(x+5) # this will give typeerror\n",
    "print(x,5)\n",
    "\n",
    "x='Monday'\n",
    "\n",
    "def myfunc():\n",
    "    print(\"Today is\"+x) # not giving indentation will give indent error\n",
    "    \n",
    "myfunc()"
   ]
  },
  {
   "cell_type": "markdown",
   "id": "cf9e0e86",
   "metadata": {},
   "source": [
    "# User inputs in python 3.6 vs 2.7:"
   ]
  },
  {
   "cell_type": "code",
   "execution_count": 27,
   "id": "5de52748",
   "metadata": {},
   "outputs": [
    {
     "name": "stdout",
     "output_type": "stream",
     "text": [
      "Enter usernameVaibhav\n",
      "Username is: Vaibhav\n"
     ]
    }
   ],
   "source": [
    "# python 3.6\n",
    "username=input(\"Enter username: \")\n",
    "print(\"Username is: \"+username)"
   ]
  },
  {
   "cell_type": "code",
   "execution_count": 28,
   "id": "3cadf86a",
   "metadata": {},
   "outputs": [
    {
     "ename": "NameError",
     "evalue": "name 'raw_input' is not defined",
     "output_type": "error",
     "traceback": [
      "\u001b[1;31m---------------------------------------------------------------------------\u001b[0m",
      "\u001b[1;31mNameError\u001b[0m                                 Traceback (most recent call last)",
      "\u001b[1;32m~\\AppData\\Local\\Temp\\ipykernel_4448\\319062158.py\u001b[0m in \u001b[0;36m<module>\u001b[1;34m\u001b[0m\n\u001b[0;32m      1\u001b[0m \u001b[1;31m# python 2.7\u001b[0m\u001b[1;33m\u001b[0m\u001b[1;33m\u001b[0m\u001b[0m\n\u001b[1;32m----> 2\u001b[1;33m \u001b[0musername\u001b[0m\u001b[1;33m=\u001b[0m\u001b[0mraw_input\u001b[0m\u001b[1;33m(\u001b[0m\u001b[1;34m\"Enter username: \"\u001b[0m\u001b[1;33m)\u001b[0m\u001b[1;33m\u001b[0m\u001b[1;33m\u001b[0m\u001b[0m\n\u001b[0m\u001b[0;32m      3\u001b[0m \u001b[0mprint\u001b[0m\u001b[1;33m(\u001b[0m\u001b[1;34m\"Username is: \"\u001b[0m\u001b[1;33m+\u001b[0m\u001b[0musername\u001b[0m\u001b[1;33m)\u001b[0m\u001b[1;33m\u001b[0m\u001b[1;33m\u001b[0m\u001b[0m\n",
      "\u001b[1;31mNameError\u001b[0m: name 'raw_input' is not defined"
     ]
    }
   ],
   "source": [
    "# python 2.7\n",
    "username=raw_input(\"Enter username: \")\n",
    "print(\"Username is: \"+username)"
   ]
  },
  {
   "cell_type": "markdown",
   "id": "98abcc5d",
   "metadata": {},
   "source": []
  }
 ],
 "metadata": {
  "kernelspec": {
   "display_name": "Python 3 (ipykernel)",
   "language": "python",
   "name": "python3"
  },
  "language_info": {
   "codemirror_mode": {
    "name": "ipython",
    "version": 3
   },
   "file_extension": ".py",
   "mimetype": "text/x-python",
   "name": "python",
   "nbconvert_exporter": "python",
   "pygments_lexer": "ipython3",
   "version": "3.9.13"
  }
 },
 "nbformat": 4,
 "nbformat_minor": 5
}
