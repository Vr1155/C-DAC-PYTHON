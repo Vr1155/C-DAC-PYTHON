{
 "cells": [
  {
   "cell_type": "markdown",
   "id": "3f13d364-e3ec-42eb-9f9d-f3b4324350f1",
   "metadata": {},
   "source": [
    "# Sets"
   ]
  },
  {
   "cell_type": "markdown",
   "id": "3344eaf9-ca06-4ecb-b7f6-3f36d4349894",
   "metadata": {},
   "source": [
    "- Sets are used to store multiple items in a single variable.\n",
    "- A set is a colleciton which is unordered, unchangeable*, and unindexed.\n",
    "- Set items are unchangeable, but you can remove items and add new items.\n",
    "- Sets are written with curly brackets.\n",
    "- Note: the set list is unordered, meaning: the items will appear in a random order."
   ]
  },
  {
   "cell_type": "code",
   "execution_count": 73,
   "id": "3f7f2e25-9cee-489f-869f-1b01c177e31f",
   "metadata": {},
   "outputs": [
    {
     "name": "stdout",
     "output_type": "stream",
     "text": [
      "{'cherry', 'banana', 'apple'}\n"
     ]
    }
   ],
   "source": [
    "thisset = {\"apple\", \"banana\", \"cherry\"}\n",
    "print(thisset)"
   ]
  },
  {
   "cell_type": "markdown",
   "id": "f2af6c1a-06ef-41fe-861a-e0a67c33d960",
   "metadata": {},
   "source": [
    "## Duplicates Not Allowed\n",
    "- Sets cannot have two items with the same value.\n",
    "- Duplicate values will be ignored."
   ]
  },
  {
   "cell_type": "code",
   "execution_count": 74,
   "id": "395b01ad-6552-45fb-a10f-182ce34c4263",
   "metadata": {},
   "outputs": [
    {
     "name": "stdout",
     "output_type": "stream",
     "text": [
      "{'cherry', 'banana', 'apple'}\n"
     ]
    }
   ],
   "source": [
    "thisset = {\"apple\", \"banana\", \"cherry\", \"apple\"}\n",
    "print(thisset)"
   ]
  },
  {
   "cell_type": "markdown",
   "id": "dc5101cd-f3a4-4512-8647-efe655230004",
   "metadata": {},
   "source": [
    "- **Note**: the values True and 1 are considered the same value in sets, and are treated as duplicates:"
   ]
  },
  {
   "cell_type": "code",
   "execution_count": 75,
   "id": "26893ae4-12fe-45f7-b4ad-b44762c55620",
   "metadata": {},
   "outputs": [
    {
     "name": "stdout",
     "output_type": "stream",
     "text": [
      "{True, 2, 'cherry', 'banana', 'apple'}\n"
     ]
    }
   ],
   "source": [
    "thisset = {\"apple\", \"banana\", \"cherry\", True, 1, 2}\n",
    "print(thisset)"
   ]
  },
  {
   "cell_type": "markdown",
   "id": "941182eb-ca86-4651-a966-f32cbecdd0a8",
   "metadata": {},
   "source": [
    "## Get the length of a Set:\n",
    "- To determine how many items a set has, use the len() function."
   ]
  },
  {
   "cell_type": "code",
   "execution_count": 76,
   "id": "e1f86f5e-f87e-48bb-847b-e67152ebe2de",
   "metadata": {},
   "outputs": [
    {
     "name": "stdout",
     "output_type": "stream",
     "text": [
      "3\n"
     ]
    }
   ],
   "source": [
    "thisset = {\"apple\", \"banana\", \"cherry\"}\n",
    "print(len(thisset))"
   ]
  },
  {
   "cell_type": "markdown",
   "id": "2beb04e5-7d1d-47f5-a4de-a5873d29629b",
   "metadata": {},
   "source": [
    "- String, int and boolean data types:"
   ]
  },
  {
   "cell_type": "code",
   "execution_count": 77,
   "id": "8bda02ae-681c-4922-ac55-b0aeb3ee1bf4",
   "metadata": {},
   "outputs": [],
   "source": [
    "set1 = {\"apple\", \"banana\", \"cherry\"}\n",
    "set2 = {1, 5, 7, 9, 3}\n",
    "set3 = {True, False, False}"
   ]
  },
  {
   "cell_type": "markdown",
   "id": "007c4192-788d-422c-84bc-d31f090019b8",
   "metadata": {},
   "source": [
    "- A set with strings, integers and boolean values:"
   ]
  },
  {
   "cell_type": "code",
   "execution_count": 78,
   "id": "4829829a-25c7-4f03-a132-704520605e72",
   "metadata": {},
   "outputs": [
    {
     "name": "stdout",
     "output_type": "stream",
     "text": [
      "{True, 'abc', 34, 'male', 40}\n"
     ]
    }
   ],
   "source": [
    "set1 = {\"abc\", 34, True, 40, \"male\"}\n",
    "print(set1)"
   ]
  },
  {
   "cell_type": "markdown",
   "id": "76aab5a5-eada-45d9-b1c0-92136c32bfb6",
   "metadata": {},
   "source": [
    "## Data type of a set"
   ]
  },
  {
   "cell_type": "code",
   "execution_count": 79,
   "id": "30794618-b11d-49a4-a58c-f272900fce33",
   "metadata": {},
   "outputs": [
    {
     "name": "stdout",
     "output_type": "stream",
     "text": [
      "<class 'set'>\n"
     ]
    }
   ],
   "source": [
    "myset = {\"apple\", \"banana\", \"cherry\"}\n",
    "print(type(myset))"
   ]
  },
  {
   "cell_type": "markdown",
   "id": "26a391a1-1efd-4c84-9795-b40b8c2dffe7",
   "metadata": {},
   "source": [
    "## Loop through"
   ]
  },
  {
   "cell_type": "markdown",
   "id": "68218978-0684-48b2-a22a-297e59cb4e2a",
   "metadata": {},
   "source": [
    "- Loop through the set and print the values:"
   ]
  },
  {
   "cell_type": "code",
   "execution_count": 80,
   "id": "7ebac045-eabe-4bd0-9724-dac4e39971fa",
   "metadata": {},
   "outputs": [
    {
     "name": "stdout",
     "output_type": "stream",
     "text": [
      "cherry\n",
      "banana\n",
      "apple\n"
     ]
    }
   ],
   "source": [
    "thisset = {\"apple\", \"banana\", \"cherry\"}\n",
    "for x in thisset:\n",
    "    print(x)"
   ]
  },
  {
   "cell_type": "markdown",
   "id": "284bc18b-f486-4724-8da8-1710437026b6",
   "metadata": {},
   "source": [
    "## Searching elements in set:"
   ]
  },
  {
   "cell_type": "markdown",
   "id": "488d1c9d-41ec-4a9d-a6f0-da40dfe68cc8",
   "metadata": {},
   "source": [
    "- Check whether a particular element is NOT present in the set:"
   ]
  },
  {
   "cell_type": "code",
   "execution_count": 81,
   "id": "00853ec1-5559-4121-aac7-1c6b536ec49a",
   "metadata": {},
   "outputs": [
    {
     "name": "stdout",
     "output_type": "stream",
     "text": [
      "False\n"
     ]
    }
   ],
   "source": [
    "thisset = {\"apple\", \"banana\", \"cherry\"}\n",
    "print(\"banana\" not in thisset)"
   ]
  },
  {
   "cell_type": "markdown",
   "id": "1c11d559-57c4-4385-824c-7afea2719385",
   "metadata": {},
   "source": [
    "- Check if a particular element is present in the set:"
   ]
  },
  {
   "cell_type": "code",
   "execution_count": 82,
   "id": "99e35284-5fe3-4f2d-823f-4d9e862f734d",
   "metadata": {},
   "outputs": [
    {
     "name": "stdout",
     "output_type": "stream",
     "text": [
      "True\n"
     ]
    }
   ],
   "source": [
    "thisset = {\"apple\", \"banana\", \"cherry\"}\n",
    "print(\"banana\" in thisset)"
   ]
  },
  {
   "cell_type": "markdown",
   "id": "1ff71c49-e7a8-479a-8915-7bcd54b61813",
   "metadata": {},
   "source": [
    "## Add Items"
   ]
  },
  {
   "cell_type": "markdown",
   "id": "eaaf7e3b-6005-49e4-be1e-9df8c6c8b79d",
   "metadata": {},
   "source": [
    "- Add an item to a set, using the add() method:"
   ]
  },
  {
   "cell_type": "code",
   "execution_count": 83,
   "id": "0425c305-2d66-4d7e-89d2-75c532182bd5",
   "metadata": {},
   "outputs": [
    {
     "name": "stdout",
     "output_type": "stream",
     "text": [
      "{'orange', 'cherry', 'banana', 'apple'}\n"
     ]
    }
   ],
   "source": [
    "thisset = {\"apple\", \"banana\", \"cherry\"}\n",
    "thisset.add(\"orange\")\n",
    "print(thisset)"
   ]
  },
  {
   "cell_type": "markdown",
   "id": "76061041-61b6-43fb-896a-88219a32da84",
   "metadata": {},
   "source": [
    "- Add elements from other set"
   ]
  },
  {
   "cell_type": "code",
   "execution_count": 84,
   "id": "1c2e5dd1-cf6e-4f75-9a2b-29845ace74ca",
   "metadata": {},
   "outputs": [
    {
     "name": "stdout",
     "output_type": "stream",
     "text": [
      "{'cherry', 'banana', 'pineapple', 'papaya', 'apple', 'mango'}\n"
     ]
    }
   ],
   "source": [
    "thisset = {\"apple\", \"banana\", \"cherry\"}\n",
    "tropical = {\"pineapple\", \"mango\", \"papaya\"}\n",
    "thisset.update(tropical)\n",
    "print(thisset)"
   ]
  },
  {
   "cell_type": "markdown",
   "id": "538d980f-8e98-4cab-a938-902ef3c91598",
   "metadata": {},
   "source": [
    "## Add any iterable:\n",
    "- The object in the update() method does not have to be a set, it can be any iterable object (tuples, list, dictionaries, etc.)\n",
    "- for eg. you can add elements of a list to a set."
   ]
  },
  {
   "cell_type": "code",
   "execution_count": 85,
   "id": "e0630e19-f7f6-436e-ba35-f5b0adc7d1af",
   "metadata": {},
   "outputs": [
    {
     "name": "stdout",
     "output_type": "stream",
     "text": [
      "{'cherry', 'orange', 'banana', 'kiwi', 'apple'}\n"
     ]
    }
   ],
   "source": [
    "thisset = {\"apple\", \"banana\", \"cherry\"}\n",
    "mylist = [\"kiwi\", \"orange\"]\n",
    "thisset.update(mylist)\n",
    "print(thisset)"
   ]
  },
  {
   "cell_type": "markdown",
   "id": "effb9720-4b17-42f8-bd59-7781123bfc4c",
   "metadata": {},
   "source": [
    "## Remove item\n",
    "- To remove an item in a set, use the remove(), or the discard() method."
   ]
  },
  {
   "cell_type": "code",
   "execution_count": 86,
   "id": "1e6bfdd6-985a-48be-a0e6-9be29585a83a",
   "metadata": {},
   "outputs": [
    {
     "name": "stdout",
     "output_type": "stream",
     "text": [
      "{'cherry', 'apple'}\n"
     ]
    }
   ],
   "source": [
    "thisset = {\"apple\", \"banana\", \"cherry\"}\n",
    "thisset.remove(\"banana\")\n",
    "print(thisset)"
   ]
  },
  {
   "cell_type": "markdown",
   "id": "121faa5a-890c-45cb-8a89-b03278cd81ef",
   "metadata": {},
   "source": [
    "- Note: if the item to remove does not exist, remove() will raise an error."
   ]
  },
  {
   "cell_type": "code",
   "execution_count": 87,
   "id": "3e5905a2-407d-47bf-9b8a-4924c045a57e",
   "metadata": {},
   "outputs": [
    {
     "ename": "KeyError",
     "evalue": "'Jackfruit'",
     "output_type": "error",
     "traceback": [
      "\u001b[1;31m---------------------------------------------------------------------------\u001b[0m",
      "\u001b[1;31mKeyError\u001b[0m                                  Traceback (most recent call last)",
      "\u001b[1;32m~\\AppData\\Local\\Temp\\ipykernel_4992\\1122884834.py\u001b[0m in \u001b[0;36m<module>\u001b[1;34m\u001b[0m\n\u001b[1;32m----> 1\u001b[1;33m \u001b[0mthisset\u001b[0m\u001b[1;33m.\u001b[0m\u001b[0mremove\u001b[0m\u001b[1;33m(\u001b[0m\u001b[1;34m\"Jackfruit\"\u001b[0m\u001b[1;33m)\u001b[0m \u001b[1;31m# KeyError\u001b[0m\u001b[1;33m\u001b[0m\u001b[1;33m\u001b[0m\u001b[0m\n\u001b[0m\u001b[0;32m      2\u001b[0m \u001b[0mprint\u001b[0m\u001b[1;33m(\u001b[0m\u001b[0mthisset\u001b[0m\u001b[1;33m)\u001b[0m\u001b[1;33m\u001b[0m\u001b[1;33m\u001b[0m\u001b[0m\n",
      "\u001b[1;31mKeyError\u001b[0m: 'Jackfruit'"
     ]
    }
   ],
   "source": [
    "thisset.remove(\"Jackfruit\") # KeyError\n",
    "print(thisset)"
   ]
  },
  {
   "cell_type": "markdown",
   "id": "3932c68c-957b-4495-86ad-78777da2cf83",
   "metadata": {},
   "source": [
    "## Other methods to remove set elements"
   ]
  },
  {
   "cell_type": "markdown",
   "id": "45d8a019-68e6-4abf-8d20-4afc79c14dd7",
   "metadata": {},
   "source": [
    "- You can also remove elements with discard()\n",
    "- **Note:** if the item to remove does not exist, discard() will **NOT** raise an error."
   ]
  },
  {
   "cell_type": "code",
   "execution_count": 88,
   "id": "9db904f4-c16d-4a9d-87f7-b4167d328db4",
   "metadata": {},
   "outputs": [
    {
     "name": "stdout",
     "output_type": "stream",
     "text": [
      "{'cherry', 'apple'}\n"
     ]
    }
   ],
   "source": [
    "thisset = {\"apple\", \"banana\", \"cherry\"}\n",
    "thisset.discard(\"banana\")\n",
    "print(thisset)"
   ]
  },
  {
   "cell_type": "markdown",
   "id": "786e075f-54c4-4d1d-828a-7a4f9b783e49",
   "metadata": {},
   "source": [
    "- You can remove a random item by using the pop() method:"
   ]
  },
  {
   "cell_type": "code",
   "execution_count": 89,
   "id": "7d0dfe7e-40cb-4930-96b7-bd58f150b63a",
   "metadata": {},
   "outputs": [
    {
     "name": "stdout",
     "output_type": "stream",
     "text": [
      "cherry\n",
      "{'banana', 'apple'}\n"
     ]
    }
   ],
   "source": [
    "thisset = {\"apple\", \"banana\", \"cherry\"}\n",
    "x = thisset.pop()\n",
    "print(x)\n",
    "print(thisset)"
   ]
  },
  {
   "cell_type": "markdown",
   "id": "91d1c4fc-02c0-45b8-9f47-89c2acf2c1b3",
   "metadata": {},
   "source": [
    "- The clear() method empties the set:"
   ]
  },
  {
   "cell_type": "code",
   "execution_count": 90,
   "id": "60fa45d7-4e64-488a-a3b9-befb160f821e",
   "metadata": {},
   "outputs": [
    {
     "name": "stdout",
     "output_type": "stream",
     "text": [
      "set()\n"
     ]
    }
   ],
   "source": [
    "thisset = {\"apple\", \"banana\", \"cherry\"}\n",
    "thisset.clear()\n",
    "print(thisset)"
   ]
  },
  {
   "cell_type": "markdown",
   "id": "258816ab-9836-4249-bab1-3432abfba3fe",
   "metadata": {},
   "source": [
    "- The del keyword will delete the set completely:"
   ]
  },
  {
   "cell_type": "code",
   "execution_count": 91,
   "id": "b63d2694-1156-4121-9533-c499ec3fbedf",
   "metadata": {},
   "outputs": [
    {
     "ename": "NameError",
     "evalue": "name 'thisset' is not defined",
     "output_type": "error",
     "traceback": [
      "\u001b[1;31m---------------------------------------------------------------------------\u001b[0m",
      "\u001b[1;31mNameError\u001b[0m                                 Traceback (most recent call last)",
      "\u001b[1;32m~\\AppData\\Local\\Temp\\ipykernel_4992\\1907917761.py\u001b[0m in \u001b[0;36m<module>\u001b[1;34m\u001b[0m\n\u001b[0;32m      1\u001b[0m \u001b[0mthisset\u001b[0m \u001b[1;33m=\u001b[0m \u001b[1;33m{\u001b[0m\u001b[1;34m\"apple\"\u001b[0m\u001b[1;33m,\u001b[0m \u001b[1;34m\"banana\"\u001b[0m\u001b[1;33m,\u001b[0m \u001b[1;34m\"cherry\"\u001b[0m\u001b[1;33m}\u001b[0m\u001b[1;33m\u001b[0m\u001b[1;33m\u001b[0m\u001b[0m\n\u001b[0;32m      2\u001b[0m \u001b[1;32mdel\u001b[0m \u001b[0mthisset\u001b[0m\u001b[1;33m\u001b[0m\u001b[1;33m\u001b[0m\u001b[0m\n\u001b[1;32m----> 3\u001b[1;33m \u001b[0mprint\u001b[0m\u001b[1;33m(\u001b[0m\u001b[0mthisset\u001b[0m\u001b[1;33m)\u001b[0m \u001b[1;31m# NameError\u001b[0m\u001b[1;33m\u001b[0m\u001b[1;33m\u001b[0m\u001b[0m\n\u001b[0m",
      "\u001b[1;31mNameError\u001b[0m: name 'thisset' is not defined"
     ]
    }
   ],
   "source": [
    "thisset = {\"apple\", \"banana\", \"cherry\"}\n",
    "del thisset\n",
    "print(thisset) # NameError"
   ]
  },
  {
   "cell_type": "markdown",
   "id": "1fb70501-c378-4e4f-882c-003bfb0f6985",
   "metadata": {},
   "source": [
    "## Join Sets"
   ]
  },
  {
   "cell_type": "markdown",
   "id": "35071cac-e519-4b55-b5f3-01e3c40fd55f",
   "metadata": {},
   "source": [
    "- There are several ways to join two or more sets in Python.\n",
    "- The union() and update() methods joins all items from both sets.\n",
    "- The intersection() method keeps ONLY the duplicates.\n",
    "- The difference() method keeps the items from te first set that are not in the other set(s).\n",
    "- The symmetric_difference() method keeps all items EXCEPT the duplicates."
   ]
  },
  {
   "cell_type": "markdown",
   "id": "9d235551-5bb0-4f56-bafe-25d61c2cd21a",
   "metadata": {},
   "source": [
    "## Union\n",
    "- The union() method returns a new set with all items from both sets."
   ]
  },
  {
   "cell_type": "code",
   "execution_count": 92,
   "id": "72445aeb-6dcd-49d2-b0e6-5b8b449591bf",
   "metadata": {},
   "outputs": [
    {
     "name": "stdout",
     "output_type": "stream",
     "text": [
      "{1, 2, 'a', 3, 'c', 'b'}\n"
     ]
    }
   ],
   "source": [
    "set1 = {\"a\", \"b\", \"c\"}\n",
    "set2 = {1,2,3}\n",
    "\n",
    "set3 = set1.union(set2) # OR you can use: set3 = set1 | set2\n",
    "print(set3)"
   ]
  },
  {
   "cell_type": "markdown",
   "id": "2f7884e8-ac10-413a-a939-8111a1a86b7d",
   "metadata": {},
   "source": [
    "- You can also use union() with multiple sets."
   ]
  },
  {
   "cell_type": "code",
   "execution_count": 93,
   "id": "b7ee3750-ac10-44cb-bfc5-ef59a9f4370c",
   "metadata": {},
   "outputs": [
    {
     "name": "stdout",
     "output_type": "stream",
     "text": [
      "{1, 2, 3, 'Elena', 'cherry', 'c', 'b', 'bananas', 'a', 'John', 'apple'}\n"
     ]
    }
   ],
   "source": [
    "set1 = {\"a\", \"b\", \"c\"}\n",
    "set2 = {1,2,3}\n",
    "set3 = {\"John\", \"Elena\"}\n",
    "set4 = {\"apple\", \"bananas\", \"cherry\"}\n",
    "\n",
    "myset = set1.union(set2, set3, set4)\n",
    "# OR you can use: myset = set1 | set2 | set3 | set4\n",
    "\n",
    "print(myset)"
   ]
  }
 ],
 "metadata": {
  "kernelspec": {
   "display_name": "Python 3 (ipykernel)",
   "language": "python",
   "name": "python3"
  },
  "language_info": {
   "codemirror_mode": {
    "name": "ipython",
    "version": 3
   },
   "file_extension": ".py",
   "mimetype": "text/x-python",
   "name": "python",
   "nbconvert_exporter": "python",
   "pygments_lexer": "ipython3",
   "version": "3.9.13"
  }
 },
 "nbformat": 4,
 "nbformat_minor": 5
}
