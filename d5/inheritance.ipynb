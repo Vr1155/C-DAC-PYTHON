{
 "cells": [
  {
   "cell_type": "markdown",
   "id": "28285ebf-e427-4ba6-8f1c-bb69d334b901",
   "metadata": {},
   "source": [
    "## Inheritance:\n",
    "- Inheritance allows us to define a class that inherits all the methods and properties from another class.\n",
    "- **Parent class** is the class being inherited from, also called base calss.\n",
    "- **Child class** is the class that inherits from another class, also called derived class."
   ]
  },
  {
   "cell_type": "markdown",
   "id": "52174872-aeab-403c-99a3-cf15617a6411",
   "metadata": {
    "tags": []
   },
   "source": [
    "## Create a object for parent class, initialize values from parent class and print it."
   ]
  },
  {
   "cell_type": "code",
   "execution_count": 4,
   "id": "a46ce571-3ed3-4833-89e0-a7182ca329b8",
   "metadata": {},
   "outputs": [
    {
     "name": "stdout",
     "output_type": "stream",
     "text": [
      "John Doe\n"
     ]
    }
   ],
   "source": [
    "## Create a class named Person, with firstname and lastname properties, and a printname method:\n",
    "class Person: \n",
    "    def __init__(self, fname, lname):\n",
    "        self.firstname = fname\n",
    "        self.lastname = lname\n",
    "        \n",
    "    def printname(self):\n",
    "        print(self.firstname, self.lastname)\n",
    "        \n",
    "    # Use the Person class to create an object, and then execute the printname method:\n",
    "    \n",
    "x = Person(\"John\", \"Doe\")\n",
    "x.printname()"
   ]
  },
  {
   "cell_type": "markdown",
   "id": "cd64ad81-393b-4d1c-a4a8-d62483e44947",
   "metadata": {},
   "source": [
    "## Create a Child Class\n",
    "- To create a class that inherits the functionality from another class, send the parent class as a parameter when creating the child class:"
   ]
  },
  {
   "cell_type": "code",
   "execution_count": 3,
   "id": "64b0f604-6a4b-45cb-8b78-ca6b5f9274c6",
   "metadata": {},
   "outputs": [
    {
     "name": "stdout",
     "output_type": "stream",
     "text": [
      "Mike Olsen\n"
     ]
    }
   ],
   "source": [
    "# Syntax for inheritance,\n",
    "# Student class inherits from Person class:\n",
    "#class Student(Person):\n",
    "#    pass\n",
    "\n",
    "# Base class:\n",
    "class Person:\n",
    "    def __init__(self, fname, lname):\n",
    "        self.firstname = fname\n",
    "        self.lastname = lname\n",
    "    \n",
    "    def printname(self):\n",
    "        print(self.firstname, self.lastname)\n",
    "        \n",
    "class Student(Person):\n",
    "    pass\n",
    "\n",
    "x = Student(\"Mike\", \"Olsen\")\n",
    "x.printname()"
   ]
  },
  {
   "cell_type": "markdown",
   "id": "e2c683d9-dec0-4027-a364-9cdfc8c5a245",
   "metadata": {},
   "source": [
    "## Add the \\_\\_init\\_\\_() function:\n",
    "- So far we have created a child class that inherits the properties and methods from its parent.\n",
    "- We want to add the \\_\\_init\\_\\_() function to the child class."
   ]
  },
  {
   "cell_type": "code",
   "execution_count": 6,
   "id": "88debf24-727f-4bcd-be1c-6f36438aa8b2",
   "metadata": {},
   "outputs": [],
   "source": [
    "# Add the __init__() function to the Student class:\n",
    "\n",
    "class Student(Person):\n",
    "    def __init__(self, fname, lname):\n",
    "        self.fname = fname # add properties etcc\n",
    "        self.lname = lname"
   ]
  },
  {
   "cell_type": "markdown",
   "id": "7bfb2e86-eb58-4d43-b100-72607ebfd25e",
   "metadata": {},
   "source": [
    "- When you add the \\_\\_init\\_\\_() function, the child class will no longer inherit the parents's \\_\\_init\\_\\_() function.\n",
    "\n",
    "- Note: The child's \\_\\_init\\_\\_() function **overrides** the inheritance of the parent's \\_\\_init\\_\\_() function.\n",
    "- To keep the inheritance of the parent's \\_\\_init\\_\\_() function, add a call to the parent's \\_\\_init\\_\\_() function:"
   ]
  },
  {
   "cell_type": "code",
   "execution_count": null,
   "id": "53c1ae12-5b00-47b2-a091-3211aefef541",
   "metadata": {},
   "outputs": [],
   "source": [
    "class Student(Person):\n",
    "    def __init__(self, fname, lname):\n",
    "        Person.__init__(self, fname, lname)"
   ]
  },
  {
   "cell_type": "markdown",
   "id": "a719c808-fcbd-4861-b55f-9bcb3a71d62e",
   "metadata": {},
   "source": [
    "## Use the super() function:\n",
    "- Python also has a super() function that will make the child class inherit all the methods and properties from its parent:"
   ]
  },
  {
   "cell_type": "code",
   "execution_count": 7,
   "id": "54f9a7ca-0563-41b6-9530-8f8aa1d86d10",
   "metadata": {},
   "outputs": [],
   "source": [
    "class Student(Person):\n",
    "    def __init__(self, fname, lname):\n",
    "        super().__init__(fname, lname)"
   ]
  },
  {
   "cell_type": "code",
   "execution_count": 8,
   "id": "bb6e82c2-8d78-40b9-8e5d-2b14f569e618",
   "metadata": {},
   "outputs": [],
   "source": [
    "# Add a property called graduationyear to the Student class:\n",
    "class Student(Person):\n",
    "    def __init__(self, fname, lname):\n",
    "        super.__init__(fname, lname)\n",
    "        self.graduationyear = 2019"
   ]
  },
  {
   "cell_type": "code",
   "execution_count": 9,
   "id": "1b3efd49-1156-461d-b017-32e2c7250d94",
   "metadata": {},
   "outputs": [],
   "source": [
    "# Add a year parameter, and pass the correct year when creating objects:\n",
    "class Student(Person):\n",
    "    def __init__(self, fname, lname, year):\n",
    "        super().__init__(fname, lname)\n",
    "        self.graduationyear = year\n",
    "        \n",
    "x = Student(\"Mike\", \"Olsen\", 2019)"
   ]
  },
  {
   "cell_type": "code",
   "execution_count": 15,
   "id": "f934ceb5-9213-41e5-a729-57af0b74b5c4",
   "metadata": {},
   "outputs": [
    {
     "name": "stdout",
     "output_type": "stream",
     "text": [
      "Welcome Sam Johnson to the class of 2020\n"
     ]
    }
   ],
   "source": [
    "# Add a method called welcome to the Student class\n",
    "class Student(Person):\n",
    "    def __init__(self, fname, lname, year):\n",
    "        super().__init__(fname, lname)\n",
    "        self.graduationyear = year\n",
    "    \n",
    "    def welcome(self):\n",
    "        print(\"Welcome\", self.firstname, self.lastname, \"to the class of\", self.graduationyear)\n",
    "        \n",
    "x = Student(\"Sam\", \"Johnson\", 2020)\n",
    "\n",
    "x.welcome()"
   ]
  }
 ],
 "metadata": {
  "kernelspec": {
   "display_name": "Python 3 (ipykernel)",
   "language": "python",
   "name": "python3"
  },
  "language_info": {
   "codemirror_mode": {
    "name": "ipython",
    "version": 3
   },
   "file_extension": ".py",
   "mimetype": "text/x-python",
   "name": "python",
   "nbconvert_exporter": "python",
   "pygments_lexer": "ipython3",
   "version": "3.9.13"
  }
 },
 "nbformat": 4,
 "nbformat_minor": 5
}
