{
 "cells": [
  {
   "cell_type": "markdown",
   "id": "2455272e-1691-44b8-9ef1-50b49e2db3a0",
   "metadata": {},
   "source": [
    "# Regular expressions in Python"
   ]
  },
  {
   "cell_type": "markdown",
   "id": "5f5c7667-dd59-437d-8a36-6ef8d9cb25a5",
   "metadata": {},
   "source": [
    "- Functionality to use Regular expressions can be found in every programming language\n",
    "- In Python, it is especially useful in web scraping."
   ]
  },
  {
   "cell_type": "markdown",
   "id": "a8772f95-2e91-4eb1-abeb-ac403488a928",
   "metadata": {},
   "source": [
    "- A RegEx, or Regular Expression, is a sequence of characters that forms a search pattern.\n",
    "- RegEx can be used to check if a string contains the specified search pattern."
   ]
  },
  {
   "cell_type": "markdown",
   "id": "8fb38f21-64bd-4db9-ab15-bbc086550928",
   "metadata": {},
   "source": [
    "## RegEx Module\n"
   ]
  },
  {
   "cell_type": "code",
   "execution_count": 1,
   "id": "05707c52-002a-4a79-ae2f-993c15fc58ac",
   "metadata": {},
   "outputs": [],
   "source": [
    "import re"
   ]
  },
  {
   "cell_type": "code",
   "execution_count": 2,
   "id": "440ae162-2483-4268-94a7-e1f8c05ff752",
   "metadata": {},
   "outputs": [
    {
     "name": "stdout",
     "output_type": "stream",
     "text": [
      "YES! We have a match!\n"
     ]
    }
   ],
   "source": [
    "# check if the string starts with \"Today\" and ends with \"Good Day\":\n",
    "\n",
    "txt = \"Today is a Good Day\"\n",
    "x = re.search(\"^Today.*Good Day$\", txt)\n",
    "\n",
    "if x:\n",
    "    print(\"YES! We have a match!\")\n",
    "else:\n",
    "    print(\"No match\")"
   ]
  },
  {
   "cell_type": "markdown",
   "id": "7369e4dc-b88d-4fdc-ad3b-10649077e66e",
   "metadata": {},
   "source": [
    "# RegEx Function:\n",
    "- The re module offers a set of functions that allows us to search a string for a match:\n",
    "\n",
    "| Function | Description |\n",
    "|----------|--------------|\n",
    "| findall  | Returns a list containing all matches |\n",
    "| search   | Return a Match object if there is a match anywhere in the string |\n",
    "| split    | Returns a list where the string has been split at each match |\n",
    "| sub      | Replaces one or many matches with a string |"
   ]
  },
  {
   "cell_type": "markdown",
   "id": "06db6a31-165a-4f86-b25a-17c9e4bfceb4",
   "metadata": {},
   "source": [
    "## Metacharacters:\n"
   ]
  }
 ],
 "metadata": {
  "kernelspec": {
   "display_name": "Python 3 (ipykernel)",
   "language": "python",
   "name": "python3"
  },
  "language_info": {
   "codemirror_mode": {
    "name": "ipython",
    "version": 3
   },
   "file_extension": ".py",
   "mimetype": "text/x-python",
   "name": "python",
   "nbconvert_exporter": "python",
   "pygments_lexer": "ipython3",
   "version": "3.9.13"
  }
 },
 "nbformat": 4,
 "nbformat_minor": 5
}
