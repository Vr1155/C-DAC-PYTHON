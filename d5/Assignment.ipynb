{
 "cells": [
  {
   "cell_type": "markdown",
   "id": "dc9caaf0-cf9c-4a35-9693-a6ac95d92356",
   "metadata": {},
   "source": [
    "#  Numpy Assignment\n",
    "### 1. Consider Warehouse inventory system. Create an array consisting of product code and corresponding quantity. \n",
    "### 2. Determine the dimension of the inventory array.\n",
    "### 3. Given a product code, search through the array to find the quantity of the product.\n",
    "### 4. Split the array to two arrays.\n",
    "### 5. Retrieve the quantity using array index.\n",
    "### 6. Check the shape of the inventory array.\n",
    "### 7. Reshape the inventory array into 2D array.\n",
    "### 8. Create a copy of the inventory array.\n",
    "### 9. Add new items to the inventory.\n",
    "\n",
    "Also explore the column stack. Do something for printing purpose before splitting the array"
   ]
  }
 ],
 "metadata": {
  "kernelspec": {
   "display_name": "Python 3 (ipykernel)",
   "language": "python",
   "name": "python3"
  },
  "language_info": {
   "codemirror_mode": {
    "name": "ipython",
    "version": 3
   },
   "file_extension": ".py",
   "mimetype": "text/x-python",
   "name": "python",
   "nbconvert_exporter": "python",
   "pygments_lexer": "ipython3",
   "version": "3.9.13"
  }
 },
 "nbformat": 4,
 "nbformat_minor": 5
}
