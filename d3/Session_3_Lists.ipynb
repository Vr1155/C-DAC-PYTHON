{
 "cells": [
  {
   "cell_type": "markdown",
   "id": "27ea432d-d6a5-40b5-aedd-78eb01f75355",
   "metadata": {
    "tags": []
   },
   "source": [
    "# Session 3: Lists"
   ]
  },
  {
   "cell_type": "markdown",
   "id": "4eb88220-ce6e-4d14-96f1-664311efc9aa",
   "metadata": {},
   "source": [
    "- Create a list\n",
    "- Print a list"
   ]
  },
  {
   "cell_type": "code",
   "execution_count": 1,
   "id": "0be808cb-ceb1-4f09-be23-52b9761a4447",
   "metadata": {},
   "outputs": [
    {
     "name": "stdout",
     "output_type": "stream",
     "text": [
      "[1, 2, 3]\n"
     ]
    }
   ],
   "source": [
    "a=[1,2,3]\n",
    "print(a)"
   ]
  },
  {
   "cell_type": "markdown",
   "id": "1a5a3ad2-bc0e-4df5-a804-811c351235a7",
   "metadata": {},
   "source": [
    "## List can hold different data types"
   ]
  },
  {
   "cell_type": "code",
   "execution_count": 15,
   "id": "693d972b-2b5b-440b-8f7b-c696d5fc0df2",
   "metadata": {},
   "outputs": [
    {
     "name": "stdout",
     "output_type": "stream",
     "text": [
      "[412, 4234.2342, 'Hello', True]\n"
     ]
    }
   ],
   "source": [
    "arr=[412, 4234.2342, \"Hello\", True]\n",
    "print(arr)"
   ]
  },
  {
   "cell_type": "markdown",
   "id": "33d194f6-37e7-460d-8a94-4e5cf263acc4",
   "metadata": {},
   "source": [
    "## Length of the list:"
   ]
  },
  {
   "cell_type": "code",
   "execution_count": 16,
   "id": "0a7677cd-f933-4f6a-94a6-1114dd681a09",
   "metadata": {},
   "outputs": [
    {
     "data": {
      "text/plain": [
       "4"
      ]
     },
     "execution_count": 16,
     "metadata": {},
     "output_type": "execute_result"
    }
   ],
   "source": [
    "len(arr)"
   ]
  },
  {
   "cell_type": "markdown",
   "id": "35641759-07c6-44e2-9f64-f927c847567e",
   "metadata": {},
   "source": [
    "## Access elements of the list using an index:"
   ]
  },
  {
   "cell_type": "code",
   "execution_count": 17,
   "id": "1aea316a-16f1-4b03-b697-b8bcab65a7a8",
   "metadata": {},
   "outputs": [
    {
     "name": "stdout",
     "output_type": "stream",
     "text": [
      "Hello\n",
      "4234.2342\n"
     ]
    }
   ],
   "source": [
    "print(arr[2])\n",
    "print(arr[1])"
   ]
  },
  {
   "cell_type": "markdown",
   "id": "6c302c46-1a07-4ab5-b14f-a8b9eba94313",
   "metadata": {},
   "source": [
    "## Get range of elements:"
   ]
  },
  {
   "cell_type": "code",
   "execution_count": 18,
   "id": "37c02510-7b8a-4d39-ba44-6ccb59c3e082",
   "metadata": {},
   "outputs": [
    {
     "name": "stdout",
     "output_type": "stream",
     "text": [
      "['Hello', True]\n",
      "[True]\n",
      "[412, 4234.2342]\n",
      "[4234.2342, 'Hello']\n"
     ]
    }
   ],
   "source": [
    "print(arr[2:4])\n",
    "print(arr[3:])\n",
    "print(arr[:2])\n",
    "print(arr[-3:-1])"
   ]
  },
  {
   "cell_type": "markdown",
   "id": "520c9e9b-4565-4958-b8b7-e3a1f13628c9",
   "metadata": {},
   "source": [
    "## Modifying the list:"
   ]
  },
  {
   "cell_type": "code",
   "execution_count": 19,
   "id": "73eb06d4-5fd6-4d26-8f77-848d3bde86e5",
   "metadata": {},
   "outputs": [
    {
     "name": "stdout",
     "output_type": "stream",
     "text": [
      "[412, 'This is the modified element', 'Hello', True]\n"
     ]
    }
   ],
   "source": [
    "arr[1] = \"This is the modified element\"\n",
    "print(arr)"
   ]
  },
  {
   "cell_type": "markdown",
   "id": "0b32feea-7aca-4f57-abff-aebbc4471ca7",
   "metadata": {},
   "source": [
    "## Using append() in list:"
   ]
  },
  {
   "cell_type": "code",
   "execution_count": 20,
   "id": "cd790984-65ca-471a-90ae-d9deef64f522",
   "metadata": {},
   "outputs": [
    {
     "name": "stdout",
     "output_type": "stream",
     "text": [
      "[412, 'This is the modified element', 'Hello', True, 5235423.4234]\n"
     ]
    }
   ],
   "source": [
    "arr.append(5235423.4234)\n",
    "print(arr)"
   ]
  },
  {
   "cell_type": "markdown",
   "id": "18c72530-b154-41c9-bedc-b9aa7e95cd19",
   "metadata": {},
   "source": [
    "## Using insert() in list:\n",
    "To insert a list item at a specified index, use the insert() method. The insert method insert an item at the specified index.\n",
    "Syntax:\n",
    "- insert(index_position, element)"
   ]
  },
  {
   "cell_type": "code",
   "execution_count": 21,
   "id": "2e76fdd6-28f0-4c3b-8b4f-8182a43ccafc",
   "metadata": {},
   "outputs": [
    {
     "name": "stdout",
     "output_type": "stream",
     "text": [
      "[412, 'This is the modified element', 'Hello', False, True, 5235423.4234]\n"
     ]
    }
   ],
   "source": [
    "arr.insert(3, False)\n",
    "print(arr)"
   ]
  },
  {
   "cell_type": "markdown",
   "id": "0e3abbcc-f27b-49c6-80dd-acd0dc814b06",
   "metadata": {},
   "source": [
    "## Remove elements from the list:\n",
    "- remove(element)"
   ]
  },
  {
   "cell_type": "code",
   "execution_count": 22,
   "id": "3b444ce3-41aa-4f9e-9c14-4d10f5fdfe79",
   "metadata": {},
   "outputs": [
    {
     "name": "stdout",
     "output_type": "stream",
     "text": [
      "[412, 'This is the modified element', 'Hello', True, 5235423.4234]\n"
     ]
    }
   ],
   "source": [
    "arr.remove(False)\n",
    "print(arr)"
   ]
  },
  {
   "cell_type": "markdown",
   "id": "46830bb7-3a18-4ed4-982e-92907b3c8dab",
   "metadata": {},
   "source": [
    "## Using pop() from the list:"
   ]
  },
  {
   "cell_type": "code",
   "execution_count": 23,
   "id": "381a1718-2378-4518-bb4c-aa8fa562ea21",
   "metadata": {},
   "outputs": [
    {
     "name": "stdout",
     "output_type": "stream",
     "text": [
      "[412, 'This is the modified element', 'Hello', True]\n"
     ]
    }
   ],
   "source": [
    "arr.pop()\n",
    "print(arr)"
   ]
  },
  {
   "cell_type": "markdown",
   "id": "629903d5-4cab-44ff-9692-74440eb415a1",
   "metadata": {},
   "source": [
    "## Using pop() with a specific index from the list:"
   ]
  },
  {
   "cell_type": "code",
   "execution_count": 25,
   "id": "a2fa4237-dde9-4a04-b163-31d414889e93",
   "metadata": {},
   "outputs": [
    {
     "name": "stdout",
     "output_type": "stream",
     "text": [
      "[412, 'This is the modified element', True]\n"
     ]
    }
   ],
   "source": [
    "arr.pop(2)\n",
    "print(arr)"
   ]
  },
  {
   "cell_type": "markdown",
   "id": "bb0fbc39-69bf-40f7-b80f-bc2f98b9899d",
   "metadata": {},
   "source": [
    "## del keyword also removes specific index:"
   ]
  },
  {
   "cell_type": "code",
   "execution_count": 35,
   "id": "4bf20766-9a18-4c49-82e0-d16a72acbadf",
   "metadata": {},
   "outputs": [
    {
     "name": "stdout",
     "output_type": "stream",
     "text": [
      "['This is the modified element', True]\n"
     ]
    }
   ],
   "source": [
    "del arr[0]\n",
    "print(arr)"
   ]
  },
  {
   "cell_type": "markdown",
   "id": "4a8d74c8-bfa0-4751-9e2d-87168da7023b",
   "metadata": {},
   "source": [
    "## del can also delete the list completely"
   ]
  },
  {
   "cell_type": "code",
   "execution_count": 38,
   "id": "89e73a7e-5953-47da-a36b-1496e78a61ca",
   "metadata": {},
   "outputs": [
    {
     "ename": "NameError",
     "evalue": "name 'arr2' is not defined",
     "output_type": "error",
     "traceback": [
      "\u001b[1;31m---------------------------------------------------------------------------\u001b[0m",
      "\u001b[1;31mNameError\u001b[0m                                 Traceback (most recent call last)",
      "\u001b[1;32m~\\AppData\\Local\\Temp\\ipykernel_5076\\2768889461.py\u001b[0m in \u001b[0;36m<module>\u001b[1;34m\u001b[0m\n\u001b[0;32m      1\u001b[0m \u001b[0marr2\u001b[0m \u001b[1;33m=\u001b[0m \u001b[1;33m[\u001b[0m\u001b[1;36m4234\u001b[0m\u001b[1;33m,\u001b[0m \u001b[1;36m54234\u001b[0m\u001b[1;33m,\u001b[0m\u001b[1;36m235423\u001b[0m\u001b[1;33m,\u001b[0m\u001b[1;36m32\u001b[0m\u001b[1;33m]\u001b[0m\u001b[1;33m\u001b[0m\u001b[1;33m\u001b[0m\u001b[0m\n\u001b[0;32m      2\u001b[0m \u001b[1;32mdel\u001b[0m \u001b[0marr2\u001b[0m\u001b[1;33m\u001b[0m\u001b[1;33m\u001b[0m\u001b[0m\n\u001b[1;32m----> 3\u001b[1;33m \u001b[0mprint\u001b[0m\u001b[1;33m(\u001b[0m\u001b[0marr2\u001b[0m\u001b[1;33m)\u001b[0m \u001b[1;31m# NameError\u001b[0m\u001b[1;33m\u001b[0m\u001b[1;33m\u001b[0m\u001b[0m\n\u001b[0m",
      "\u001b[1;31mNameError\u001b[0m: name 'arr2' is not defined"
     ]
    }
   ],
   "source": [
    "arr2 = [4234, 54234,235423,32]\n",
    "del arr2\n",
    "print(arr2) # NameError"
   ]
  },
  {
   "cell_type": "markdown",
   "id": "6067468a-6b8c-4608-9666-b5d7a335dad2",
   "metadata": {
    "tags": []
   },
   "source": [
    "## Extending list with another list"
   ]
  },
  {
   "cell_type": "code",
   "execution_count": 27,
   "id": "9fae3239-912f-4e88-b5e7-578364f53843",
   "metadata": {},
   "outputs": [
    {
     "name": "stdout",
     "output_type": "stream",
     "text": [
      "['abc', 1, 423.5423, True, 'New list', 423.423, False]\n"
     ]
    }
   ],
   "source": [
    "List1=[\"abc\", 1, 423.5423, True]\n",
    "List2=[\"New list\", 423.423, False]\n",
    "List1.extend(List2)\n",
    "print(List1)"
   ]
  },
  {
   "cell_type": "markdown",
   "id": "8d7b0171-44b4-4625-a01a-a1e9fdfcdf20",
   "metadata": {},
   "source": [
    "## Extend list items with tuple items"
   ]
  },
  {
   "cell_type": "code",
   "execution_count": 29,
   "id": "94229501-2aa4-49a4-bd9e-eee6f9e698f6",
   "metadata": {},
   "outputs": [
    {
     "name": "stdout",
     "output_type": "stream",
     "text": [
      "['apple', 'banana', 'cherry', 'kiwi', 'orange']\n"
     ]
    }
   ],
   "source": [
    "thislist=[\"apple\", \"banana\", \"cherry\"]\n",
    "thistuple=(\"kiwi\", \"orange\")\n",
    "thislist.extend(thistuple)\n",
    "print(thislist)"
   ]
  },
  {
   "cell_type": "markdown",
   "id": "e062044e-95a4-40dd-adf7-331f9993b34d",
   "metadata": {},
   "source": [
    "## Looping thourgh the list using for loop\n",
    "You can loop through the list items by using a for loop:"
   ]
  },
  {
   "cell_type": "code",
   "execution_count": 30,
   "id": "b8caeebb-3408-43d6-8a3f-d82d5d7b6bde",
   "metadata": {},
   "outputs": [
    {
     "name": "stdout",
     "output_type": "stream",
     "text": [
      "apple\n",
      "banana\n",
      "cherry\n"
     ]
    }
   ],
   "source": [
    "thislist=[\"apple\", \"banana\", \"cherry\"]\n",
    "for x in thislist:\n",
    "    print(x)"
   ]
  },
  {
   "cell_type": "markdown",
   "id": "8142e427-2298-4afe-b044-1c80c04e4e66",
   "metadata": {},
   "source": [
    "## Looping through the list by using range():"
   ]
  },
  {
   "cell_type": "code",
   "execution_count": 32,
   "id": "def20082-60fb-4fc1-8f2f-e8415e27f698",
   "metadata": {},
   "outputs": [
    {
     "name": "stdout",
     "output_type": "stream",
     "text": [
      "apple\n",
      "banana\n",
      "cherry\n"
     ]
    }
   ],
   "source": [
    "thislist = [\"apple\", \"banana\", \"cherry\"]\n",
    "for i in range(len(thislist)):\n",
    "    print(thislist[i])"
   ]
  },
  {
   "cell_type": "markdown",
   "id": "db64cd9b-426b-4b12-93e1-f7f4416b6ed1",
   "metadata": {},
   "source": [
    "## Using a while loop:"
   ]
  },
  {
   "cell_type": "code",
   "execution_count": 33,
   "id": "800abd0c-93f4-4d26-95b7-16d4e0fe324a",
   "metadata": {},
   "outputs": [
    {
     "name": "stdout",
     "output_type": "stream",
     "text": [
      "apple\n",
      "banana\n",
      "cherry\n"
     ]
    }
   ],
   "source": [
    "thislist=[\"apple\", \"banana\", \"cherry\"]\n",
    "i = 0\n",
    "while i < len(thislist):\n",
    "    print(thislist[i])\n",
    "    i=i+1"
   ]
  },
  {
   "cell_type": "markdown",
   "id": "e826b954-51bd-4659-967b-5529d9214a01",
   "metadata": {},
   "source": [
    "## Looping using list comprehension\n",
    "List Comprehension offers the shortest syntax for looping through list:\n",
    "\n",
    "- Syntax: newlist = [expression for item in iterable if condition == True]\n",
    "- The return value is a new list, leaving the old list unchanged.\n",
    "\n",
    "See articles for more info:\n",
    "https://peps.python.org/pep-0202/\n",
    "https://www.w3schools.com/Python/python_lists_comprehension.asp"
   ]
  },
  {
   "cell_type": "code",
   "execution_count": 46,
   "id": "f89ffe24-0a42-4f23-b278-71d8d0b20d95",
   "metadata": {},
   "outputs": [
    {
     "name": "stdout",
     "output_type": "stream",
     "text": [
      "['apple', 'banana', 'mango']\n"
     ]
    }
   ],
   "source": [
    "fruits = [\"apple\", \"banana\", \"cherry\", \"kiwi\", \"mango\"]\n",
    "newlist = [x for x in fruits if \"a\" in x] # creating newlist with all fruits with letter 'a'\n",
    "print(newlist)"
   ]
  },
  {
   "cell_type": "markdown",
   "id": "b2ef0079-0ed3-49cd-ae37-7fc002a6985b",
   "metadata": {},
   "source": [
    "## Sort List alphanumerically\n",
    "List objects have a sort() method that will sort the list alphanumerically, ascending by default:"
   ]
  },
  {
   "cell_type": "code",
   "execution_count": 55,
   "id": "515ac61f-4c90-40cb-b93f-7d47f6934fbe",
   "metadata": {},
   "outputs": [
    {
     "name": "stdout",
     "output_type": "stream",
     "text": [
      "[123, 231, 423, 4234, 34235, 52332]\n"
     ]
    }
   ],
   "source": [
    "list1 = [423,34235, 4234, 231, 52332, 123]\n",
    "list1.sort()\n",
    "#list.sort(list1)\n",
    "print(list1)"
   ]
  },
  {
   "cell_type": "markdown",
   "id": "ebcc8015-bdb1-42ce-96ab-356c8a53d37a",
   "metadata": {},
   "source": [
    "## Customize Sort Function:\n",
    "you can also customize your own function by using the keyword argument key=function.\n",
    "The function will return a number that will be used to sort the list (the lowest number first):"
   ]
  },
  {
   "cell_type": "code",
   "execution_count": 41,
   "id": "e6bd37b5-6aa8-4cf8-88d1-858e12871ad5",
   "metadata": {},
   "outputs": [
    {
     "name": "stdout",
     "output_type": "stream",
     "text": [
      "[50, 65, 23, 82, 100]\n"
     ]
    }
   ],
   "source": [
    "# Sort the list based on how close the number is to 50:\n",
    "def myfunc(n):\n",
    "    return abs(n-50)\n",
    "\n",
    "thislist=[100,50,65,82,23]\n",
    "thislist.sort(key=myfunc)\n",
    "print(thislist)\n"
   ]
  },
  {
   "cell_type": "markdown",
   "id": "c88c9379-f460-411b-9282-994f8d16f030",
   "metadata": {},
   "source": [
    "## Case Insensitive sort:\n",
    "- Python uses utf-8 as default encoding\n",
    "- By default the sort() method is case sensitive, resulting in all capital letters being sorted before lower case letters:"
   ]
  },
  {
   "cell_type": "code",
   "execution_count": 52,
   "id": "c0c61ceb-beff-44e7-b311-c61d363cfb79",
   "metadata": {},
   "outputs": [
    {
     "name": "stdout",
     "output_type": "stream",
     "text": [
      "Case sensitive sorting:  ['Kiwi', 'Orange', 'banana', 'cherry']\n",
      "Case Insensitive sorting:  ['banana', 'cherry', 'Kiwi', 'Orange']\n"
     ]
    }
   ],
   "source": [
    "# case sensitive sorting gives unexpected result:\n",
    "thislist=[\"banana\", \"Orange\", \"Kiwi\", \"cherry\"]\n",
    "thislist.sort()\n",
    "#thislist.reverse()\n",
    "print(\"Case sensitive sorting: \", thislist)\n",
    "\n",
    "thislist.sort(key=str.lower)\n",
    "#thislist.reverse()\n",
    "print(\"Case Insensitive sorting: \", thislist)"
   ]
  },
  {
   "cell_type": "markdown",
   "id": "922cea76-8c18-4eca-9acd-529bf5117ec0",
   "metadata": {},
   "source": [
    "## Copy a list"
   ]
  },
  {
   "cell_type": "code",
   "execution_count": 53,
   "id": "d9a64a19-6dbb-4a8a-b54e-08b9cba72d59",
   "metadata": {},
   "outputs": [
    {
     "name": "stdout",
     "output_type": "stream",
     "text": [
      "['Apple', 'Banana', 'Cherry']\n"
     ]
    }
   ],
   "source": [
    "fruits = [\"Apple\", \"Banana\", \"Cherry\"]\n",
    "tastyfood = fruits.copy()\n",
    "print(tastyfood)"
   ]
  },
  {
   "cell_type": "markdown",
   "id": "423fe05a-2627-4456-b33b-054a6a1e992a",
   "metadata": {},
   "source": [
    "# Programming task:\n",
    "\n",
    "1. Using python data structures, create a directory consisting of employee details (employee_id, name, job_role, joining_date, salary) and perform the following operations. USE ALL 3 (dictionary, list and tuple).\n",
    "\n",
    "    a) add 5 employees to the directory.\n",
    "    \n",
    "    b) check senior most employee from the directory.\n",
    "    \n",
    "    c) add a new employee to the directory\n",
    "    \n",
    "    d) remove an employee from the directory\n",
    "    \n",
    "    e) sort the employee \n",
    "    \n",
    "    f) with the help of a function display full name (prefix, firstname, lastname).\n",
    "    \n",
    "    g) list employee whose salary is above 80k."
   ]
  }
 ],
 "metadata": {
  "kernelspec": {
   "display_name": "Python 3 (ipykernel)",
   "language": "python",
   "name": "python3"
  },
  "language_info": {
   "codemirror_mode": {
    "name": "ipython",
    "version": 3
   },
   "file_extension": ".py",
   "mimetype": "text/x-python",
   "name": "python",
   "nbconvert_exporter": "python",
   "pygments_lexer": "ipython3",
   "version": "3.9.13"
  }
 },
 "nbformat": 4,
 "nbformat_minor": 5
}
