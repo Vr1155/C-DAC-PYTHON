{
 "cells": [
  {
   "cell_type": "markdown",
   "id": "68fd79a0-18c2-4efc-b33e-7813cf2c10f3",
   "metadata": {},
   "source": [
    "# Session 5 & 6: function:"
   ]
  },
  {
   "cell_type": "markdown",
   "id": "a658b4b3-4c6e-429c-9579-3f6ae43f755f",
   "metadata": {},
   "source": [
    "## Arbitrary Arguments *args\n",
    "- If you do not know how many arguments that will be passed into your function, add a \"*\" before the parameter name in the function definition.\n",
    "- This way the function will receive a tuple of arguments, and can access the items accordingly:"
   ]
  },
  {
   "cell_type": "code",
   "execution_count": 3,
   "id": "d07a45ff-e3be-4697-b2c1-0f372c941400",
   "metadata": {},
   "outputs": [
    {
     "name": "stdout",
     "output_type": "stream",
     "text": [
      "The youngest kid is Linus\n"
     ]
    }
   ],
   "source": [
    "def my_function(*kids):\n",
    "    print(\"The youngest kid is \" + kids[2])\n",
    "    \n",
    "my_function(\"Emil\", \"Tobias\", \"Linus\")"
   ]
  },
  {
   "cell_type": "markdown",
   "id": "feda42ec-a869-4112-b58d-1017c249f2fe",
   "metadata": {},
   "source": [
    "## Using optional and named arguments\n",
    "### Keyword Arguments\n",
    "- You can also send arguments with the key=value syntax.\n",
    "- This way the order of the arguments does not matter.\n"
   ]
  },
  {
   "cell_type": "code",
   "execution_count": 4,
   "id": "73835661-99dc-437d-a88b-e9f56f55172e",
   "metadata": {},
   "outputs": [
    {
     "name": "stdout",
     "output_type": "stream",
     "text": [
      "The youngest child is Linus\n"
     ]
    }
   ],
   "source": [
    "def my_function(child3, child2, child1):\n",
    "    print(\"The youngest child is \"+child3)\n",
    "    \n",
    "my_function(child1=\"Emil\", child2=\"Tobias\", child3=\"Linus\")"
   ]
  },
  {
   "cell_type": "markdown",
   "id": "49e1e891-e8c1-4abe-a924-f29ac727f89d",
   "metadata": {},
   "source": [
    "### Arbitrary Keyword Arguments, **kwarg\n",
    "- If you do not know how many keyword arguments that will be passed into your function, add two asterisk ** before the parameter name in the function definition.\n",
    "- This way the function will receive a dictionary of arguments, and can access those items accordingly."
   ]
  },
  {
   "cell_type": "code",
   "execution_count": 5,
   "id": "f4876e54-bef9-4115-acae-a3dea027dfbe",
   "metadata": {},
   "outputs": [
    {
     "name": "stdout",
     "output_type": "stream",
     "text": [
      "His last name is Refsnes\n"
     ]
    }
   ],
   "source": [
    "def my_function(**kid):\n",
    "    print(\"His last name is \"+kid[\"lname\"])\n",
    "\n",
    "my_function(fname=\"Tobias\", lname=\"Refsnes\")"
   ]
  },
  {
   "cell_type": "markdown",
   "id": "4995dfb9-42cb-4c82-b5a9-a20af2bd5363",
   "metadata": {},
   "source": [
    "## Default parameters:\n",
    "- Like in other programming languages like C/C++, you can have default parameters in python"
   ]
  },
  {
   "cell_type": "markdown",
   "id": "9674f0a8-424a-4ee1-bca9-419142ec7c77",
   "metadata": {},
   "source": [
    "## Passing a list as an argument\n",
    "- You can send any data types of argument to a "
   ]
  },
  {
   "cell_type": "markdown",
   "id": "08ed0aa6-8431-4eac-b06c-4b996d3a4dd4",
   "metadata": {},
   "source": [
    "## Return Values:\n",
    "To let a function return a value, use the return statement."
   ]
  },
  {
   "cell_type": "markdown",
   "id": "587287b4-2fc0-4858-8887-ef0b114e08e2",
   "metadata": {},
   "source": [
    "## Recursion:"
   ]
  },
  {
   "cell_type": "code",
   "execution_count": 8,
   "id": "5818d0e3-d67a-41e0-88d7-44b1137eff98",
   "metadata": {},
   "outputs": [
    {
     "name": "stdout",
     "output_type": "stream",
     "text": [
      "\n",
      "\n",
      "Recursion Example Results\n",
      "1\n",
      "3\n",
      "6\n",
      "10\n",
      "15\n",
      "21\n"
     ]
    },
    {
     "data": {
      "text/plain": [
       "21"
      ]
     },
     "execution_count": 8,
     "metadata": {},
     "output_type": "execute_result"
    }
   ],
   "source": [
    "def tri_recursion(k):\n",
    "    if(k>0):\n",
    "        result=k+tri_recursion(k-1)\n",
    "        print(result)\n",
    "    else:\n",
    "        result=0\n",
    "    return result\n",
    "    \n",
    "print(\"\\n\\nRecursion Example Results\")    \n",
    "tri_recursion(6)"
   ]
  },
  {
   "cell_type": "markdown",
   "id": "4b12afb0-2f11-4f87-8b82-7334457fe2d6",
   "metadata": {},
   "source": [
    "# Programming task:\n",
    "- WAP to demonstrate fibonacci series using recursion.\n",
    "- WAP to check square root of a number.\n",
    "- WAP to for checking whether a number is prime or not."
   ]
  },
  {
   "cell_type": "code",
   "execution_count": 15,
   "id": "cd2014f7-4de3-473e-a08f-bbadc658e627",
   "metadata": {},
   "outputs": [
    {
     "data": {
      "text/plain": [
       "3"
      ]
     },
     "execution_count": 15,
     "metadata": {},
     "output_type": "execute_result"
    }
   ],
   "source": [
    "# solution 1\n",
    "def fibo(n):\n",
    "    if n <= 1:\n",
    "        return n\n",
    "\n",
    "    curr = fibo(n-1) + fibo(n-2)\n",
    "    return curr\n",
    "\n",
    "fibo(4)"
   ]
  }
 ],
 "metadata": {
  "kernelspec": {
   "display_name": "Python 3 (ipykernel)",
   "language": "python",
   "name": "python3"
  },
  "language_info": {
   "codemirror_mode": {
    "name": "ipython",
    "version": 3
   },
   "file_extension": ".py",
   "mimetype": "text/x-python",
   "name": "python",
   "nbconvert_exporter": "python",
   "pygments_lexer": "ipython3",
   "version": "3.9.13"
  }
 },
 "nbformat": 4,
 "nbformat_minor": 5
}
