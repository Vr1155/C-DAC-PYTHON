{
 "cells": [
  {
   "cell_type": "markdown",
   "id": "7c82b8cb-7da1-4ffe-81d4-df99780a9fbb",
   "metadata": {},
   "source": [
    "# Numpy"
   ]
  },
  {
   "cell_type": "code",
   "execution_count": 1,
   "id": "d8d1a40c-e19f-4b3a-bbe4-bb08e9dcf5e7",
   "metadata": {},
   "outputs": [
    {
     "name": "stdout",
     "output_type": "stream",
     "text": [
      "[1 2 3 4]\n"
     ]
    }
   ],
   "source": [
    "import numpy as np\n",
    "\n",
    "arr = np.array([1,2,3,4])\n",
    "print(arr)"
   ]
  },
  {
   "cell_type": "markdown",
   "id": "572cb808-069c-4f29-a92c-0ec40136d1c3",
   "metadata": {},
   "source": [
    "## Multi-dimensional arrays in Numpy"
   ]
  },
  {
   "cell_type": "code",
   "execution_count": 2,
   "id": "c40373f0-64e8-4e67-ab28-3422d10cf61e",
   "metadata": {},
   "outputs": [
    {
     "name": "stdout",
     "output_type": "stream",
     "text": [
      "0\n",
      "1\n",
      "2\n",
      "3\n"
     ]
    }
   ],
   "source": [
    "import numpy as np\n",
    "\n",
    "arr0 = np.array(23)\n",
    "arr1 = np.array([1,2,3,4])\n",
    "arr2 = np.array([[1,2,3,4],[5,6,7,8]])\n",
    "arr3 = np.array([[[1,2,3], [4,5,6]], [[7,8,9], [11, 12, 13]]])\n",
    "print(arr0.ndim)\n",
    "print(arr1.ndim)\n",
    "print(arr2.ndim)\n",
    "print(arr3.ndim)\n"
   ]
  },
  {
   "cell_type": "markdown",
   "id": "7326b547-17c6-4ee2-9b76-81b283002bad",
   "metadata": {},
   "source": [
    "## Printing Multi-dimensional arrays:"
   ]
  },
  {
   "cell_type": "code",
   "execution_count": 9,
   "id": "6cf8d454-c866-481d-9185-2f44524c1176",
   "metadata": {},
   "outputs": [
    {
     "name": "stdout",
     "output_type": "stream",
     "text": [
      "----------------------------------------\n",
      "1D array:\n",
      "[1 2 3 4]\n",
      "----------------------------------------\n",
      "2D array:\n",
      "[[1 2 3 4]\n",
      " [5 6 7 8]]\n",
      "----------------------------------------\n",
      "3D array:\n",
      "[[[ 1  2  3]\n",
      "  [ 4  5  6]]\n",
      "\n",
      " [[ 7  8  9]\n",
      "  [11 12 13]]]\n",
      "----------------------------------------\n"
     ]
    }
   ],
   "source": [
    "print(\"----------------------------------------\")\n",
    "print(\"1D array:\")\n",
    "print(arr1)\n",
    "print(\"----------------------------------------\")\n",
    "print(\"2D array:\")\n",
    "print(arr2)\n",
    "print(\"----------------------------------------\")\n",
    "print(\"3D array:\")\n",
    "print(arr3)\n",
    "print(\"----------------------------------------\")"
   ]
  },
  {
   "cell_type": "markdown",
   "id": "47d1ed7d-f93d-4919-90d9-190fbb3fc398",
   "metadata": {},
   "source": [
    "## Printing specific elements from multi-dimensional arrays:\n",
    "- Note: you can also use negative indexing like you do in 1D arrays."
   ]
  },
  {
   "cell_type": "code",
   "execution_count": 10,
   "id": "d39c740d-84a8-42c1-89cc-c45234c09525",
   "metadata": {},
   "outputs": [
    {
     "name": "stdout",
     "output_type": "stream",
     "text": [
      "2\n",
      "6\n",
      "12\n"
     ]
    }
   ],
   "source": [
    "print(arr1[1])\n",
    "print(arr2[1][1])\n",
    "print(arr3[1][1][1])"
   ]
  },
  {
   "cell_type": "markdown",
   "id": "3aedd376-3fc9-400d-acfd-54b2ca2bb863",
   "metadata": {},
   "source": []
  },
  {
   "cell_type": "markdown",
   "id": "ff61f835-5ded-492a-a143-8878df8b0f2e",
   "metadata": {},
   "source": [
    "## Printing the shape of multi-dimensional arrays:\n",
    "- shape describes number of entries in every dimension."
   ]
  },
  {
   "cell_type": "code",
   "execution_count": 11,
   "id": "f3619757-04d3-405e-8486-5702e0b2d3cc",
   "metadata": {},
   "outputs": [
    {
     "name": "stdout",
     "output_type": "stream",
     "text": [
      "(4,)\n",
      "(2, 4)\n",
      "(2, 2, 3)\n"
     ]
    }
   ],
   "source": [
    "print(arr1.shape)\n",
    "print(arr2.shape)\n",
    "print(arr3.shape)"
   ]
  },
  {
   "cell_type": "markdown",
   "id": "555e5584-bd3d-49ca-8a06-e7973dfd3079",
   "metadata": {},
   "source": [
    "## Copying arrays"
   ]
  },
  {
   "cell_type": "code",
   "execution_count": 13,
   "id": "26253199-4b3a-4419-9da5-d04205754121",
   "metadata": {},
   "outputs": [
    {
     "name": "stdout",
     "output_type": "stream",
     "text": [
      "[[[ 1  2  3]\n",
      "  [ 4  5  6]]\n",
      "\n",
      " [[ 7  8  9]\n",
      "  [11 12 13]]]\n"
     ]
    }
   ],
   "source": [
    "arrcpy = np.copy(arr3)\n",
    "print(arrcpy)"
   ]
  },
  {
   "cell_type": "markdown",
   "id": "4cba09c4-c1aa-493f-a152-b315db245a39",
   "metadata": {},
   "source": [
    "## Concatenate arrays\n",
    "- use np.concatenate() to concatenate numpy arrays\n",
    "- It is important to specify in which dimension we are going to perform the concatenation. \n",
    "- This is done through axis parameter.\n",
    "- pass all arrays as tuple elements in first parameter\n",
    "- Specify the axis of concatenation in second parameter\n",
    "- axis = dimension\n"
   ]
  },
  {
   "cell_type": "code",
   "execution_count": 17,
   "id": "f6235dcf-a5cd-4d93-ae1c-c571ff30548e",
   "metadata": {},
   "outputs": [],
   "source": [
    "arr1 = np.array([1,2,3,4])\n",
    "arr2 = np.array([5,6,7,8])\n",
    "arrconcat = np.concatenate((arr1, arr2), axis = 0)"
   ]
  },
  {
   "cell_type": "markdown",
   "id": "54d9e64e-96ed-45fe-9eb3-15742cab5341",
   "metadata": {},
   "source": [
    "## Sorting numpy arrays:\n",
    "- use np.sort() to return a sorted list"
   ]
  },
  {
   "cell_type": "code",
   "execution_count": 21,
   "id": "f4e2c674-b863-4762-af00-e94a698d2e69",
   "metadata": {},
   "outputs": [
    {
     "name": "stdout",
     "output_type": "stream",
     "text": [
      "[  5   5  23 234 234 235 245 423 523 534]\n"
     ]
    }
   ],
   "source": [
    "arr3 = np.array([423,523,5,534,23,234,235,245,5,234])\n",
    "arrsorted = np.sort(arr3)\n",
    "print(arrsorted)"
   ]
  },
  {
   "cell_type": "markdown",
   "id": "83807b5b-f69e-431f-ab1e-28474e54685c",
   "metadata": {},
   "source": [
    "## Task: Extract RGB values from an image and convert it into array"
   ]
  },
  {
   "cell_type": "code",
   "execution_count": null,
   "id": "f561dd38-1c4a-4f64-87cd-555ff95be408",
   "metadata": {},
   "outputs": [],
   "source": [
    "Ass"
   ]
  }
 ],
 "metadata": {
  "kernelspec": {
   "display_name": "Python 3 (ipykernel)",
   "language": "python",
   "name": "python3"
  },
  "language_info": {
   "codemirror_mode": {
    "name": "ipython",
    "version": 3
   },
   "file_extension": ".py",
   "mimetype": "text/x-python",
   "name": "python",
   "nbconvert_exporter": "python",
   "pygments_lexer": "ipython3",
   "version": "3.9.13"
  }
 },
 "nbformat": 4,
 "nbformat_minor": 5
}
