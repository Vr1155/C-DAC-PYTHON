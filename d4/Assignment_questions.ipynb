{
 "cells": [
  {
   "cell_type": "markdown",
   "id": "3d6fde52-776c-4b23-8322-8fd4162772f4",
   "metadata": {},
   "source": [
    "# Day 4 Assignment:"
   ]
  },
  {
   "cell_type": "markdown",
   "id": "b1abb896-faab-4465-b7ab-9d9b5e01d6c6",
   "metadata": {},
   "source": [
    "## Q.1. Create a dataset in csv format consisting of the following data: productId, productName, category, price, quantity and do the following\n",
    "### 1. Load the csv file into a pandas dataFrame\n",
    "### 2. Check for and handle any missing values or inconsistances in the dataset\n",
    "### 3. calculate sum of quantity, average of price, total sales and top selling product\n",
    "## NOTE: use the following methods sum(), mean()"
   ]
  },
  {
   "cell_type": "markdown",
   "id": "84461dba-b558-48dd-b5b6-c02ed025c3cb",
   "metadata": {},
   "source": [
    "## Q2. Question on OOPs concept\n",
    "## 1. Create a vehicle class with attributes as no. of wheels, max speed, no of air bags, etc.\n",
    "## 2. Create a constructor and a method that displays vehicle info\n",
    "## 3. CHOICE QUESTION: create a child class bus, from vehicle class that inherits all of the variables and methods from vehicle\n",
    "## 4. the bus class have its own attributes as No. of doors, fare per km, no. of seats along with inherited attributes\n",
    "## 5. write a method to calculate bus fare by accepting distance in kms as parameter"
   ]
  }
 ],
 "metadata": {
  "kernelspec": {
   "display_name": "Python 3 (ipykernel)",
   "language": "python",
   "name": "python3"
  },
  "language_info": {
   "codemirror_mode": {
    "name": "ipython",
    "version": 3
   },
   "file_extension": ".py",
   "mimetype": "text/x-python",
   "name": "python",
   "nbconvert_exporter": "python",
   "pygments_lexer": "ipython3",
   "version": "3.9.13"
  }
 },
 "nbformat": 4,
 "nbformat_minor": 5
}
