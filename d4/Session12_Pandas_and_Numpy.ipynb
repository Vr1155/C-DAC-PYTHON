{
 "cells": [
  {
   "cell_type": "markdown",
   "id": "a5269400-3e1e-4e93-b001-391cc6c1d92f",
   "metadata": {},
   "source": [
    "# Pandas and Numpy:\n",
    "- Actual usage of python is in data analytics.\n",
    "- The name \"Pandas\" came from \"Python Data Analytics\".\n",
    "- Pandas works on .csv which stands for \"comma separated values\"."
   ]
  },
  {
   "cell_type": "markdown",
   "id": "7b6732d5-3a6c-4592-8702-d0282ac79c46",
   "metadata": {},
   "source": [
    "## Pandas Series:\n",
    "What is a Series?\n",
    "- A Pandas Series is like a column in a table.\n",
    "- It is a one-dimensional array holding data of any type."
   ]
  },
  {
   "cell_type": "markdown",
   "id": "e81a28c8-e717-4fcb-b59b-9453cc24602a",
   "metadata": {},
   "source": [
    "## Series method in Pandas library. "
   ]
  },
  {
   "cell_type": "code",
   "execution_count": 5,
   "id": "ca1ee7e0-ac0c-4f11-8fa7-8978bf838835",
   "metadata": {},
   "outputs": [
    {
     "name": "stdout",
     "output_type": "stream",
     "text": [
      "0    1\n",
      "1    2\n",
      "2    3\n",
      "dtype: int64\n"
     ]
    }
   ],
   "source": [
    "import pandas as pd\n",
    "\n",
    "ser=[1,2,3]\n",
    "var=pd.Series(ser)\n",
    "print(var)"
   ]
  },
  {
   "cell_type": "markdown",
   "id": "470f5c68-20a1-4a93-9ce6-8c70512cf947",
   "metadata": {},
   "source": [
    "### Create series of of any data type with any index "
   ]
  },
  {
   "cell_type": "code",
   "execution_count": 6,
   "id": "67c186fc-046a-406a-af8f-394ae0aee1d5",
   "metadata": {},
   "outputs": [
    {
     "name": "stdout",
     "output_type": "stream",
     "text": [
      "Tue\n"
     ]
    }
   ],
   "source": [
    "ser=[\"Mon\", \"Tue\", \"Wed\"]\n",
    "var=pd.Series(ser, index=[\"day1\", \"day2\", \"day3\"])\n",
    "print(var[\"day2\"])"
   ]
  },
  {
   "cell_type": "markdown",
   "id": "309b72f6-9d71-4157-a0e0-1bfd0e6413f2",
   "metadata": {},
   "source": [
    "### Create series from a dictionary by using DataFrame()"
   ]
  },
  {
   "cell_type": "code",
   "execution_count": 7,
   "id": "8f39a04d-9390-411d-8fcf-595a2d4fc959",
   "metadata": {},
   "outputs": [
    {
     "name": "stdout",
     "output_type": "stream",
     "text": [
      "    cars  passings\n",
      "0    BMW         3\n",
      "1  Volvo         7\n",
      "2   Ford         2\n"
     ]
    }
   ],
   "source": [
    "mydataset = {\n",
    "    \"cars\": [\"BMW\", \"Volvo\", \"Ford\"],\n",
    "    \"passings\": [3,7,2],\n",
    "}\n",
    "\n",
    "myvar=pd.DataFrame(mydataset)\n",
    "print(myvar)"
   ]
  },
  {
   "cell_type": "markdown",
   "id": "20234c58-7ea8-46b7-bcda-41cb1fddd325",
   "metadata": {},
   "source": [
    "## Create Labels\n",
    "With the index argument, you can name your own labels."
   ]
  },
  {
   "cell_type": "code",
   "execution_count": 11,
   "id": "deb85bc2-0181-4b3a-ad34-31e9968cf16b",
   "metadata": {},
   "outputs": [
    {
     "name": "stdout",
     "output_type": "stream",
     "text": [
      "x    1\n",
      "y    7\n",
      "z    2\n",
      "dtype: int64\n",
      "\n",
      "Using labels:\n",
      "1\n"
     ]
    }
   ],
   "source": [
    "# Create your own labels:\n",
    "import pandas as pd\n",
    "\n",
    "a=[1,7,2]\n",
    "myvar = pd.Series(a, index = [\"x\", \"y\", \"z\"])\n",
    "\n",
    "print(myvar)\n",
    "\n",
    "print(\"\\nUsing labels:\")\n",
    "print(myvar[0])"
   ]
  },
  {
   "cell_type": "markdown",
   "id": "d3852706-83f2-472f-ae5f-be3bd6ead66f",
   "metadata": {},
   "source": [
    "## Key/Value Objects as Series:\n",
    "You can also use a key/value object, like a dictionary, when creating a Series."
   ]
  },
  {
   "cell_type": "code",
   "execution_count": 18,
   "id": "aa26caeb-01bc-40a3-9138-40d95419372c",
   "metadata": {},
   "outputs": [
    {
     "name": "stdout",
     "output_type": "stream",
     "text": [
      "day1    420\n",
      "day2    380\n",
      "day3    390\n",
      "dtype: int64\n",
      "printing with labels:\n",
      "420\n"
     ]
    }
   ],
   "source": [
    "# Create a simple Pandas Series from a dictionary\n",
    "import pandas as pd\n",
    "\n",
    "calories = {\"day1\": 420, \"day2\": 380, \"day3\":390}\n",
    "\n",
    "var = pd.Series(calories)\n",
    "\n",
    "print(var)\n",
    "\n",
    "print(\"printing with labels:\")\n",
    "print(var[\"day1\"])"
   ]
  },
  {
   "cell_type": "markdown",
   "id": "2a7041b8-a7c1-46e7-9a58-32469a1ee569",
   "metadata": {},
   "source": [
    "## DataFrames \n",
    "- Data sets in Pandas are usually multi-dimensional tables, called DataFrames.\\\n",
    "- Series is like a column, a DataFrame is the whole table."
   ]
  },
  {
   "cell_type": "code",
   "execution_count": 13,
   "id": "8518f876-d364-48a7-a785-f51ff1b65560",
   "metadata": {},
   "outputs": [
    {
     "name": "stdout",
     "output_type": "stream",
     "text": [
      "   calories  duration\n",
      "0       420        50\n",
      "1       380        40\n",
      "2       390        45\n"
     ]
    }
   ],
   "source": [
    "# Create a DataFrame from two Series:\n",
    "import pandas as pd\n",
    "\n",
    "data = {\n",
    "    \"calories\" : [420, 380, 390],\n",
    "    \"duration\" : [50, 40, 45]\n",
    "}\n",
    "\n",
    "myvar = pd.DataFrame(data)\n",
    "print(myvar)"
   ]
  },
  {
   "cell_type": "markdown",
   "id": "2b25edc3-f4d4-48af-b04b-692df45250e7",
   "metadata": {},
   "source": [
    "## Locate Row\n",
    "- As you can see form the result above, the DataFrame is like a table with rows and columns.\n",
    "- Pandas use the loc attribute to return one or more specified row(s).\n",
    "- Note: When using [ ], the result is a Pandas DataFrame"
   ]
  },
  {
   "cell_type": "code",
   "execution_count": 25,
   "id": "e05e7f1e-db84-4e78-ba61-fc83fdb4c7be",
   "metadata": {},
   "outputs": [
    {
     "name": "stdout",
     "output_type": "stream",
     "text": [
      "Return row 0\n",
      "calories    420\n",
      "duration     50\n",
      "Name: 0, dtype: int64\n",
      "Return row 0 and 1\n",
      "   calories  duration\n",
      "0       420        50\n",
      "1       380        40\n"
     ]
    }
   ],
   "source": [
    "print(\"Return row 0\")\n",
    "print(myvar.loc[0])\n",
    "print(\"Return row 0 and 1\")\n",
    "print(myvar. loc[[0,1]])"
   ]
  },
  {
   "cell_type": "markdown",
   "id": "8bdfff79-ca28-4b81-827e-719c901e4168",
   "metadata": {},
   "source": [
    "## Read CSV\n",
    "- A simple way to store big data sets is to use CSV files (comma separated files),\n",
    "- CSV files contains plain text and is a well know format that can be read by everyone including Pandas.\n",
    "- Note: if the .csv file is in different directory/folder, make sure you give the full path.\n",
    "- Note: use to_string() to print the entire DataFrame."
   ]
  },
  {
   "cell_type": "code",
   "execution_count": 29,
   "id": "87c02349-49b9-4460-baa6-938eab6e093e",
   "metadata": {},
   "outputs": [
    {
     "name": "stdout",
     "output_type": "stream",
     "text": [
      "   Book number             Book Name\n",
      "0            1           Animal Farm\n",
      "1            2                  1984\n",
      "2            3        Fahrenheit 451\n",
      "3            4         Atomic habits\n",
      "4            5      Brave new world.\n",
      "5            6   Alice in Wonderland\n",
      "6            7       Sherlock Holmes\n",
      "7            8          Harry Potter\n",
      "8            9     Lord of the Rings\n",
      "9           10  Song of Ice and Fire\n"
     ]
    }
   ],
   "source": [
    "# Load the CSV into a DataFrame\n",
    "df = pd.read_csv(\"book1.csv\") # will give FileNotFoundError if file does not exist\n",
    "print(df.to_string())"
   ]
  },
  {
   "cell_type": "markdown",
   "id": "0a5b76c1-8d10-4b05-8f7c-a626e2946d10",
   "metadata": {},
   "source": [
    "## Printing DataFrame"
   ]
  },
  {
   "cell_type": "code",
   "execution_count": 30,
   "id": "9966920d-5461-4a3d-9ce7-278d55e07515",
   "metadata": {},
   "outputs": [
    {
     "name": "stdout",
     "output_type": "stream",
     "text": [
      "   Book number         Book Name\n",
      "0            1       Animal Farm\n",
      "1            2              1984\n",
      "2            3    Fahrenheit 451\n",
      "3            4     Atomic habits\n",
      "4            5  Brave new world.\n"
     ]
    }
   ],
   "source": [
    "print(df.head())"
   ]
  },
  {
   "cell_type": "code",
   "execution_count": 31,
   "id": "50eaeebc-0a83-4746-8175-61219b013786",
   "metadata": {},
   "outputs": [
    {
     "name": "stdout",
     "output_type": "stream",
     "text": [
      "   Book number             Book Name\n",
      "5            6   Alice in Wonderland\n",
      "6            7       Sherlock Holmes\n",
      "7            8          Harry Potter\n",
      "8            9     Lord of the Rings\n",
      "9           10  Song of Ice and Fire\n"
     ]
    }
   ],
   "source": [
    "print(df.tail())"
   ]
  },
  {
   "cell_type": "markdown",
   "id": "bdc9e69f-b0dc-4bba-a5f5-d83866cce219",
   "metadata": {},
   "source": [
    "## Using info() on DataFrame:"
   ]
  },
  {
   "cell_type": "code",
   "execution_count": 32,
   "id": "03fbfd54-7fa6-4e8b-839c-b937a6642006",
   "metadata": {},
   "outputs": [
    {
     "name": "stdout",
     "output_type": "stream",
     "text": [
      "<class 'pandas.core.frame.DataFrame'>\n",
      "RangeIndex: 10 entries, 0 to 9\n",
      "Data columns (total 2 columns):\n",
      " #   Column       Non-Null Count  Dtype \n",
      "---  ------       --------------  ----- \n",
      " 0   Book number  10 non-null     int64 \n",
      " 1   Book Name    10 non-null     object\n",
      "dtypes: int64(1), object(1)\n",
      "memory usage: 288.0+ bytes\n",
      "None\n"
     ]
    }
   ],
   "source": [
    "print(df.info())"
   ]
  },
  {
   "cell_type": "markdown",
   "id": "eae5cfb3-29ee-481f-b46d-2a04c161500c",
   "metadata": {},
   "source": [
    "## Printing large DataFrames:\n",
    "- if DataFrame is too huge, first and last 10 rows are printed and in middle you get \"...\""
   ]
  },
  {
   "cell_type": "code",
   "execution_count": 33,
   "id": "71681f0b-19e8-431a-abba-02ed263520a5",
   "metadata": {},
   "outputs": [
    {
     "name": "stdout",
     "output_type": "stream",
     "text": [
      "   Book number             Book Name\n",
      "0            1           Animal Farm\n",
      "1            2                  1984\n",
      "2            3        Fahrenheit 451\n",
      "3            4         Atomic habits\n",
      "4            5      Brave new world.\n",
      "5            6   Alice in Wonderland\n",
      "6            7       Sherlock Holmes\n",
      "7            8          Harry Potter\n",
      "8            9     Lord of the Rings\n",
      "9           10  Song of Ice and Fire\n"
     ]
    }
   ],
   "source": [
    "print(df) "
   ]
  },
  {
   "cell_type": "markdown",
   "id": "d6080509-1816-458f-ba96-670457ca5776",
   "metadata": {},
   "source": []
  }
 ],
 "metadata": {
  "kernelspec": {
   "display_name": "Python 3 (ipykernel)",
   "language": "python",
   "name": "python3"
  },
  "language_info": {
   "codemirror_mode": {
    "name": "ipython",
    "version": 3
   },
   "file_extension": ".py",
   "mimetype": "text/x-python",
   "name": "python",
   "nbconvert_exporter": "python",
   "pygments_lexer": "ipython3",
   "version": "3.9.13"
  }
 },
 "nbformat": 4,
 "nbformat_minor": 5
}
