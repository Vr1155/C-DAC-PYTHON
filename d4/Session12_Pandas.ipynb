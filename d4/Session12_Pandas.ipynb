{
 "cells": [
  {
   "cell_type": "markdown",
   "id": "a5269400-3e1e-4e93-b001-391cc6c1d92f",
   "metadata": {},
   "source": [
    "# Pandas:\n",
    "- Actual usage of python is in data analytics.\n",
    "- The name \"Pandas\" came from \"Python Data Analytics\".\n",
    "- Pandas works on .csv which stands for \"comma separated values\"."
   ]
  },
  {
   "cell_type": "markdown",
   "id": "7b6732d5-3a6c-4592-8702-d0282ac79c46",
   "metadata": {},
   "source": [
    "## Pandas Series:\n",
    "What is a Series?\n",
    "- A Pandas Series is like a column in a table.\n",
    "- It is a one-dimensional array holding data of any type."
   ]
  },
  {
   "cell_type": "markdown",
   "id": "e81a28c8-e717-4fcb-b59b-9453cc24602a",
   "metadata": {},
   "source": [
    "## Series method in Pandas library. "
   ]
  },
  {
   "cell_type": "code",
   "execution_count": 105,
   "id": "ca1ee7e0-ac0c-4f11-8fa7-8978bf838835",
   "metadata": {},
   "outputs": [
    {
     "name": "stdout",
     "output_type": "stream",
     "text": [
      "0    1\n",
      "1    2\n",
      "2    3\n",
      "dtype: int64\n"
     ]
    }
   ],
   "source": [
    "import pandas as pd\n",
    "\n",
    "ser=[1,2,3]\n",
    "var=pd.Series(ser)\n",
    "print(var)"
   ]
  },
  {
   "cell_type": "markdown",
   "id": "470f5c68-20a1-4a93-9ce6-8c70512cf947",
   "metadata": {},
   "source": [
    "### Create series of of any data type with any index "
   ]
  },
  {
   "cell_type": "code",
   "execution_count": 106,
   "id": "67c186fc-046a-406a-af8f-394ae0aee1d5",
   "metadata": {},
   "outputs": [
    {
     "name": "stdout",
     "output_type": "stream",
     "text": [
      "Tue\n"
     ]
    }
   ],
   "source": [
    "ser=[\"Mon\", \"Tue\", \"Wed\"]\n",
    "var=pd.Series(ser, index=[\"day1\", \"day2\", \"day3\"])\n",
    "print(var[\"day2\"])"
   ]
  },
  {
   "cell_type": "markdown",
   "id": "309b72f6-9d71-4157-a0e0-1bfd0e6413f2",
   "metadata": {},
   "source": [
    "### Create series from a dictionary by using DataFrame()"
   ]
  },
  {
   "cell_type": "code",
   "execution_count": 107,
   "id": "8f39a04d-9390-411d-8fcf-595a2d4fc959",
   "metadata": {},
   "outputs": [
    {
     "name": "stdout",
     "output_type": "stream",
     "text": [
      "    cars  passings\n",
      "0    BMW         3\n",
      "1  Volvo         7\n",
      "2   Ford         2\n"
     ]
    }
   ],
   "source": [
    "mydataset = {\n",
    "    \"cars\": [\"BMW\", \"Volvo\", \"Ford\"],\n",
    "    \"passings\": [3,7,2],\n",
    "}\n",
    "\n",
    "myvar=pd.DataFrame(mydataset)\n",
    "print(myvar)"
   ]
  },
  {
   "cell_type": "markdown",
   "id": "20234c58-7ea8-46b7-bcda-41cb1fddd325",
   "metadata": {},
   "source": [
    "## Create Labels\n",
    "With the index argument, you can name your own labels."
   ]
  },
  {
   "cell_type": "code",
   "execution_count": 108,
   "id": "deb85bc2-0181-4b3a-ad34-31e9968cf16b",
   "metadata": {},
   "outputs": [
    {
     "name": "stdout",
     "output_type": "stream",
     "text": [
      "x    1\n",
      "y    7\n",
      "z    2\n",
      "dtype: int64\n",
      "\n",
      "Using labels:\n",
      "1\n"
     ]
    }
   ],
   "source": [
    "# Create your own labels:\n",
    "import pandas as pd\n",
    "\n",
    "a=[1,7,2]\n",
    "myvar = pd.Series(a, index = [\"x\", \"y\", \"z\"])\n",
    "\n",
    "print(myvar)\n",
    "\n",
    "print(\"\\nUsing labels:\")\n",
    "print(myvar[0])"
   ]
  },
  {
   "cell_type": "markdown",
   "id": "d3852706-83f2-472f-ae5f-be3bd6ead66f",
   "metadata": {},
   "source": [
    "## Key/Value Objects as Series:\n",
    "You can also use a key/value object, like a dictionary, when creating a Series."
   ]
  },
  {
   "cell_type": "code",
   "execution_count": 109,
   "id": "aa26caeb-01bc-40a3-9138-40d95419372c",
   "metadata": {},
   "outputs": [
    {
     "name": "stdout",
     "output_type": "stream",
     "text": [
      "day1    420\n",
      "day2    380\n",
      "day3    390\n",
      "dtype: int64\n",
      "printing with labels:\n",
      "420\n"
     ]
    }
   ],
   "source": [
    "# Create a simple Pandas Series from a dictionary\n",
    "import pandas as pd\n",
    "\n",
    "calories = {\"day1\": 420, \"day2\": 380, \"day3\":390}\n",
    "\n",
    "var = pd.Series(calories)\n",
    "\n",
    "print(var)\n",
    "\n",
    "print(\"printing with labels:\")\n",
    "print(var[\"day1\"])"
   ]
  },
  {
   "cell_type": "markdown",
   "id": "2a7041b8-a7c1-46e7-9a58-32469a1ee569",
   "metadata": {},
   "source": [
    "## DataFrames \n",
    "- Data sets in Pandas are usually multi-dimensional tables, called DataFrames.\\\n",
    "- Series is like a column, a DataFrame is the whole table."
   ]
  },
  {
   "cell_type": "code",
   "execution_count": 110,
   "id": "8518f876-d364-48a7-a785-f51ff1b65560",
   "metadata": {},
   "outputs": [
    {
     "name": "stdout",
     "output_type": "stream",
     "text": [
      "   calories  duration\n",
      "0       420        50\n",
      "1       380        40\n",
      "2       390        45\n"
     ]
    }
   ],
   "source": [
    "# Create a DataFrame from two Series:\n",
    "import pandas as pd\n",
    "\n",
    "data = {\n",
    "    \"calories\" : [420, 380, 390],\n",
    "    \"duration\" : [50, 40, 45]\n",
    "}\n",
    "\n",
    "myvar = pd.DataFrame(data)\n",
    "print(myvar)"
   ]
  },
  {
   "cell_type": "markdown",
   "id": "2b25edc3-f4d4-48af-b04b-692df45250e7",
   "metadata": {},
   "source": [
    "## Locate Row\n",
    "- As you can see form the result above, the DataFrame is like a table with rows and columns.\n",
    "- Pandas use the loc attribute to return one or more specified row(s).\n",
    "- Note: When using [ ], the result is a Pandas DataFrame"
   ]
  },
  {
   "cell_type": "code",
   "execution_count": 111,
   "id": "e05e7f1e-db84-4e78-ba61-fc83fdb4c7be",
   "metadata": {},
   "outputs": [
    {
     "name": "stdout",
     "output_type": "stream",
     "text": [
      "Return row 0\n",
      "calories    420\n",
      "duration     50\n",
      "Name: 0, dtype: int64\n",
      "Return row 0 and 1\n",
      "   calories  duration\n",
      "0       420        50\n",
      "1       380        40\n"
     ]
    }
   ],
   "source": [
    "print(\"Return row 0\")\n",
    "print(myvar.loc[0])\n",
    "print(\"Return row 0 and 1\")\n",
    "print(myvar. loc[[0,1]])"
   ]
  },
  {
   "cell_type": "markdown",
   "id": "8bdfff79-ca28-4b81-827e-719c901e4168",
   "metadata": {},
   "source": [
    "## Read CSV\n",
    "- A simple way to store big data sets is to use CSV files (comma separated files),\n",
    "- CSV files contains plain text and is a well know format that can be read by everyone including Pandas.\n",
    "- Note: if the .csv file is in different directory/folder, make sure you give the full path.\n",
    "- Note: use to_string() to print the entire DataFrame."
   ]
  },
  {
   "cell_type": "code",
   "execution_count": 112,
   "id": "87c02349-49b9-4460-baa6-938eab6e093e",
   "metadata": {},
   "outputs": [
    {
     "name": "stdout",
     "output_type": "stream",
     "text": [
      "    Book number             Book Name        Date\n",
      "0           1.0           Animal Farm  21-12-2020\n",
      "1           NaN                  1984  11-04-2023\n",
      "2           3.0        Fahrenheit 451  21-01-2019\n",
      "3           4.0                   NaN  22-07-2017\n",
      "4           5.0      Brave new world.  22-08-2020\n",
      "5           6.0                   NaN      5/2009\n",
      "6           7.0       Sherlock Holmes  22-09-2001\n",
      "7           8.0          Harry Potter  24-08-2003\n",
      "8           NaN     Lord of the Rings  28-09-1994\n",
      "9          10.0  Song of Ice and Fire  20-10-2000\n",
      "10          1.0           Animal Farm  21-12-2020\n"
     ]
    }
   ],
   "source": [
    "# Load the CSV into a DataFrame\n",
    "df = pd.read_csv(\"book1.csv\") # will give FileNotFoundError if file does not exist\n",
    "print(df.to_string())"
   ]
  },
  {
   "cell_type": "markdown",
   "id": "0a5b76c1-8d10-4b05-8f7c-a626e2946d10",
   "metadata": {},
   "source": [
    "## Printing DataFrame"
   ]
  },
  {
   "cell_type": "code",
   "execution_count": 113,
   "id": "9966920d-5461-4a3d-9ce7-278d55e07515",
   "metadata": {},
   "outputs": [
    {
     "name": "stdout",
     "output_type": "stream",
     "text": [
      "   Book number         Book Name        Date\n",
      "0          1.0       Animal Farm  21-12-2020\n",
      "1          NaN              1984  11-04-2023\n",
      "2          3.0    Fahrenheit 451  21-01-2019\n",
      "3          4.0               NaN  22-07-2017\n",
      "4          5.0  Brave new world.  22-08-2020\n"
     ]
    }
   ],
   "source": [
    "print(df.head())"
   ]
  },
  {
   "cell_type": "code",
   "execution_count": 114,
   "id": "50eaeebc-0a83-4746-8175-61219b013786",
   "metadata": {},
   "outputs": [
    {
     "name": "stdout",
     "output_type": "stream",
     "text": [
      "    Book number             Book Name        Date\n",
      "6           7.0       Sherlock Holmes  22-09-2001\n",
      "7           8.0          Harry Potter  24-08-2003\n",
      "8           NaN     Lord of the Rings  28-09-1994\n",
      "9          10.0  Song of Ice and Fire  20-10-2000\n",
      "10          1.0           Animal Farm  21-12-2020\n"
     ]
    }
   ],
   "source": [
    "print(df.tail())"
   ]
  },
  {
   "cell_type": "markdown",
   "id": "bdc9e69f-b0dc-4bba-a5f5-d83866cce219",
   "metadata": {},
   "source": [
    "## Using info() on DataFrame:"
   ]
  },
  {
   "cell_type": "code",
   "execution_count": 115,
   "id": "03fbfd54-7fa6-4e8b-839c-b937a6642006",
   "metadata": {},
   "outputs": [
    {
     "name": "stdout",
     "output_type": "stream",
     "text": [
      "<class 'pandas.core.frame.DataFrame'>\n",
      "RangeIndex: 11 entries, 0 to 10\n",
      "Data columns (total 3 columns):\n",
      " #   Column       Non-Null Count  Dtype  \n",
      "---  ------       --------------  -----  \n",
      " 0   Book number  9 non-null      float64\n",
      " 1   Book Name    9 non-null      object \n",
      " 2   Date         11 non-null     object \n",
      "dtypes: float64(1), object(2)\n",
      "memory usage: 392.0+ bytes\n",
      "None\n"
     ]
    }
   ],
   "source": [
    "print(df.info())"
   ]
  },
  {
   "cell_type": "markdown",
   "id": "eae5cfb3-29ee-481f-b46d-2a04c161500c",
   "metadata": {},
   "source": [
    "## Printing large DataFrames:\n",
    "- if DataFrame is too huge, first and last 10 rows are printed and in middle you get \"...\""
   ]
  },
  {
   "cell_type": "code",
   "execution_count": 116,
   "id": "71681f0b-19e8-431a-abba-02ed263520a5",
   "metadata": {},
   "outputs": [
    {
     "name": "stdout",
     "output_type": "stream",
     "text": [
      "    Book number             Book Name        Date\n",
      "0           1.0           Animal Farm  21-12-2020\n",
      "1           NaN                  1984  11-04-2023\n",
      "2           3.0        Fahrenheit 451  21-01-2019\n",
      "3           4.0                   NaN  22-07-2017\n",
      "4           5.0      Brave new world.  22-08-2020\n",
      "5           6.0                   NaN      5/2009\n",
      "6           7.0       Sherlock Holmes  22-09-2001\n",
      "7           8.0          Harry Potter  24-08-2003\n",
      "8           NaN     Lord of the Rings  28-09-1994\n",
      "9          10.0  Song of Ice and Fire  20-10-2000\n",
      "10          1.0           Animal Farm  21-12-2020\n"
     ]
    }
   ],
   "source": [
    "print(df) "
   ]
  },
  {
   "cell_type": "markdown",
   "id": "a2be91a2-5b8d-46d1-900e-9256990512fe",
   "metadata": {},
   "source": [
    "## Dropping rows with null values:\n",
    "- Use dropna() to drop the entire rows with even a single null value.\n",
    "- This will create a new dataframe\n",
    "- To drop null values in-place, then use \"inplace=True\" as parameter"
   ]
  },
  {
   "cell_type": "code",
   "execution_count": 117,
   "id": "0a940bd1-b6b7-4ff4-9da6-2edb02afb14e",
   "metadata": {},
   "outputs": [
    {
     "name": "stdout",
     "output_type": "stream",
     "text": [
      "    Book number             Book Name        Date\n",
      "0           1.0           Animal Farm  21-12-2020\n",
      "2           3.0        Fahrenheit 451  21-01-2019\n",
      "4           5.0      Brave new world.  22-08-2020\n",
      "6           7.0       Sherlock Holmes  22-09-2001\n",
      "7           8.0          Harry Potter  24-08-2003\n",
      "9          10.0  Song of Ice and Fire  20-10-2000\n",
      "10          1.0           Animal Farm  21-12-2020\n"
     ]
    }
   ],
   "source": [
    "new_df = df.dropna()\n",
    "print(new_df)"
   ]
  },
  {
   "cell_type": "code",
   "execution_count": 118,
   "id": "c1cacae4-17ea-401a-8cb2-06c89008dd6a",
   "metadata": {},
   "outputs": [
    {
     "name": "stdout",
     "output_type": "stream",
     "text": [
      "    Book number             Book Name        Date\n",
      "0           1.0           Animal Farm  21-12-2020\n",
      "2           3.0        Fahrenheit 451  21-01-2019\n",
      "4           5.0      Brave new world.  22-08-2020\n",
      "6           7.0       Sherlock Holmes  22-09-2001\n",
      "7           8.0          Harry Potter  24-08-2003\n",
      "9          10.0  Song of Ice and Fire  20-10-2000\n",
      "10          1.0           Animal Farm  21-12-2020\n"
     ]
    }
   ],
   "source": [
    "df.dropna(inplace=True)\n",
    "print(df)"
   ]
  },
  {
   "cell_type": "markdown",
   "id": "b013bafc-16d5-40a0-8372-1c688060f5f9",
   "metadata": {},
   "source": [
    "## Filling null values with some other input\n",
    "- Use fillna() to fill null values with some other value\n",
    "- This will create a new dataframe\n",
    "- Use \"inplace=True\" as second parameter if you want to fill null values in-place\n",
    "- Incase, you want to fill null values in a particular column you can use this function after you use [ ] to specify that column name."
   ]
  },
  {
   "cell_type": "code",
   "execution_count": 119,
   "id": "1e60dda0-9aec-47f4-b773-e670bbd33aa9",
   "metadata": {},
   "outputs": [
    {
     "name": "stdout",
     "output_type": "stream",
     "text": [
      "    Book number             Book Name        Date\n",
      "0           1.0           Animal Farm  21-12-2020\n",
      "1           NaN                  1984  11-04-2023\n",
      "2           3.0        Fahrenheit 451  21-01-2019\n",
      "3           4.0                   NaN  22-07-2017\n",
      "4           5.0      Brave new world.  22-08-2020\n",
      "5           6.0                   NaN      5/2009\n",
      "6           7.0       Sherlock Holmes  22-09-2001\n",
      "7           8.0          Harry Potter  24-08-2003\n",
      "8           NaN     Lord of the Rings  28-09-1994\n",
      "9          10.0  Song of Ice and Fire  20-10-2000\n",
      "10          1.0           Animal Farm  21-12-2020\n"
     ]
    }
   ],
   "source": [
    "# Load the CSV into a DataFrame\n",
    "df = pd.read_csv(\"book1.csv\") # will give FileNotFoundError if file does not exist\n",
    "print(df.to_string())"
   ]
  },
  {
   "cell_type": "code",
   "execution_count": 120,
   "id": "afb2f259-5b11-4474-bab6-2b153600a3a8",
   "metadata": {},
   "outputs": [
    {
     "name": "stdout",
     "output_type": "stream",
     "text": [
      "   Book number             Book Name        Date\n",
      "0          1.0           Animal Farm  21-12-2020\n",
      "1           NA                  1984  11-04-2023\n",
      "2          3.0        Fahrenheit 451  21-01-2019\n",
      "3          4.0                    NA  22-07-2017\n",
      "4          5.0      Brave new world.  22-08-2020\n",
      "5          6.0                    NA      5/2009\n",
      "6          7.0       Sherlock Holmes  22-09-2001\n",
      "7          8.0          Harry Potter  24-08-2003\n",
      "8           NA     Lord of the Rings  28-09-1994\n",
      "9         10.0  Song of Ice and Fire  20-10-2000\n",
      "10         1.0           Animal Farm  21-12-2020\n"
     ]
    }
   ],
   "source": [
    "new_df = df.fillna(\"NA\")\n",
    "print(new_df)"
   ]
  },
  {
   "cell_type": "code",
   "execution_count": 121,
   "id": "5d5e95c5-f1e7-4f33-a734-8687f9fba312",
   "metadata": {},
   "outputs": [
    {
     "name": "stdout",
     "output_type": "stream",
     "text": [
      "   Book number             Book Name        Date\n",
      "0          1.0           Animal Farm  21-12-2020\n",
      "1           NA                  1984  11-04-2023\n",
      "2          3.0        Fahrenheit 451  21-01-2019\n",
      "3          4.0                    NA  22-07-2017\n",
      "4          5.0      Brave new world.  22-08-2020\n",
      "5          6.0                    NA      5/2009\n",
      "6          7.0       Sherlock Holmes  22-09-2001\n",
      "7          8.0          Harry Potter  24-08-2003\n",
      "8           NA     Lord of the Rings  28-09-1994\n",
      "9         10.0  Song of Ice and Fire  20-10-2000\n",
      "10         1.0           Animal Farm  21-12-2020\n"
     ]
    }
   ],
   "source": [
    "df.fillna(\"NA\", inplace=True)\n",
    "print(df)"
   ]
  },
  {
   "cell_type": "markdown",
   "id": "2ab07d8f-2c1c-47d9-83a0-f68b51ff1870",
   "metadata": {},
   "source": [
    "## Replace only for specified columns\n",
    "- The example above replaces all empty cells in the whole DataFrame.\n",
    "- to only replace empty values for one column, specify the column name for DataFrame."
   ]
  },
  {
   "cell_type": "code",
   "execution_count": 122,
   "id": "8bd361cf-1db4-48fe-ba2a-4469624f6cce",
   "metadata": {},
   "outputs": [
    {
     "name": "stdout",
     "output_type": "stream",
     "text": [
      "    Book number             Book Name        Date\n",
      "0           1.0           Animal Farm  21-12-2020\n",
      "1           NaN                  1984  11-04-2023\n",
      "2           3.0        Fahrenheit 451  21-01-2019\n",
      "3           4.0        BOOK NOT FOUND  22-07-2017\n",
      "4           5.0      Brave new world.  22-08-2020\n",
      "5           6.0        BOOK NOT FOUND      5/2009\n",
      "6           7.0       Sherlock Holmes  22-09-2001\n",
      "7           8.0          Harry Potter  24-08-2003\n",
      "8           NaN     Lord of the Rings  28-09-1994\n",
      "9          10.0  Song of Ice and Fire  20-10-2000\n",
      "10          1.0           Animal Farm  21-12-2020\n"
     ]
    }
   ],
   "source": [
    "# Load the CSV into a DataFrame\n",
    "df = pd.read_csv(\"book1.csv\") # will give FileNotFoundError if file does not exist\n",
    "\n",
    "df[\"Book Name\"].fillna(\"BOOK NOT FOUND\", inplace=True)\n",
    "print(df)"
   ]
  },
  {
   "cell_type": "markdown",
   "id": "38d303cd-629d-45c0-b527-8b1ee69f2252",
   "metadata": {},
   "source": [
    "## Cleaning data of wrong format\n",
    "- if you dont specify the format, you will receive warnings"
   ]
  },
  {
   "cell_type": "code",
   "execution_count": 123,
   "id": "7dd7383d-202a-4250-a098-eb19d0150e99",
   "metadata": {},
   "outputs": [
    {
     "name": "stdout",
     "output_type": "stream",
     "text": [
      "    Book number             Book Name       Date\n",
      "0           1.0           Animal Farm 2020-12-21\n",
      "1           NaN                  1984 2023-11-04\n",
      "2           3.0        Fahrenheit 451 2019-01-21\n",
      "3           4.0                   NaN 2017-07-22\n",
      "4           5.0      Brave new world. 2020-08-22\n",
      "5           6.0                   NaN 2009-05-01\n",
      "6           7.0       Sherlock Holmes 2001-09-22\n",
      "7           8.0          Harry Potter 2003-08-24\n",
      "8           NaN     Lord of the Rings 1994-09-28\n",
      "9          10.0  Song of Ice and Fire 2000-10-20\n",
      "10          1.0           Animal Farm 2020-12-21\n"
     ]
    },
    {
     "name": "stderr",
     "output_type": "stream",
     "text": [
      "C:\\Users\\corporate\\AppData\\Local\\Temp\\ipykernel_1208\\3347265003.py:2: UserWarning: Parsing '21-12-2020' in DD/MM/YYYY format. Provide format or specify infer_datetime_format=True for consistent parsing.\n",
      "  df[\"Date\"] = pd.to_datetime(df[\"Date\"])\n",
      "C:\\Users\\corporate\\AppData\\Local\\Temp\\ipykernel_1208\\3347265003.py:2: UserWarning: Parsing '21-01-2019' in DD/MM/YYYY format. Provide format or specify infer_datetime_format=True for consistent parsing.\n",
      "  df[\"Date\"] = pd.to_datetime(df[\"Date\"])\n",
      "C:\\Users\\corporate\\AppData\\Local\\Temp\\ipykernel_1208\\3347265003.py:2: UserWarning: Parsing '22-07-2017' in DD/MM/YYYY format. Provide format or specify infer_datetime_format=True for consistent parsing.\n",
      "  df[\"Date\"] = pd.to_datetime(df[\"Date\"])\n",
      "C:\\Users\\corporate\\AppData\\Local\\Temp\\ipykernel_1208\\3347265003.py:2: UserWarning: Parsing '22-08-2020' in DD/MM/YYYY format. Provide format or specify infer_datetime_format=True for consistent parsing.\n",
      "  df[\"Date\"] = pd.to_datetime(df[\"Date\"])\n",
      "C:\\Users\\corporate\\AppData\\Local\\Temp\\ipykernel_1208\\3347265003.py:2: UserWarning: Parsing '22-09-2001' in DD/MM/YYYY format. Provide format or specify infer_datetime_format=True for consistent parsing.\n",
      "  df[\"Date\"] = pd.to_datetime(df[\"Date\"])\n",
      "C:\\Users\\corporate\\AppData\\Local\\Temp\\ipykernel_1208\\3347265003.py:2: UserWarning: Parsing '24-08-2003' in DD/MM/YYYY format. Provide format or specify infer_datetime_format=True for consistent parsing.\n",
      "  df[\"Date\"] = pd.to_datetime(df[\"Date\"])\n",
      "C:\\Users\\corporate\\AppData\\Local\\Temp\\ipykernel_1208\\3347265003.py:2: UserWarning: Parsing '28-09-1994' in DD/MM/YYYY format. Provide format or specify infer_datetime_format=True for consistent parsing.\n",
      "  df[\"Date\"] = pd.to_datetime(df[\"Date\"])\n",
      "C:\\Users\\corporate\\AppData\\Local\\Temp\\ipykernel_1208\\3347265003.py:2: UserWarning: Parsing '20-10-2000' in DD/MM/YYYY format. Provide format or specify infer_datetime_format=True for consistent parsing.\n",
      "  df[\"Date\"] = pd.to_datetime(df[\"Date\"])\n"
     ]
    }
   ],
   "source": [
    "df = pd.read_csv(\"book1.csv\")\n",
    "df[\"Date\"] = pd.to_datetime(df[\"Date\"])\n",
    "print(df.to_string())"
   ]
  },
  {
   "cell_type": "markdown",
   "id": "cf49c5d0-7420-440d-9f9f-0e0da15fe9ef",
   "metadata": {},
   "source": [
    "## Fixing Wrong Data with loc[ ]"
   ]
  },
  {
   "cell_type": "code",
   "execution_count": 124,
   "id": "d8fa9e1f-3971-4530-b579-581dc5708360",
   "metadata": {},
   "outputs": [
    {
     "name": "stdout",
     "output_type": "stream",
     "text": [
      "    Book number             Book Name        Date\n",
      "0           1.0           Animal Farm  21-12-2020\n",
      "1           NaN                  1984  11-04-2023\n",
      "2           3.0        Fahrenheit 451  21-01-2019\n",
      "3           4.0                   NaN  22-07-2017\n",
      "4           5.0      Brave new world.  22-08-2020\n",
      "5           6.0        Power of Habit      5/2009\n",
      "6           7.0       Sherlock Holmes  22-09-2001\n",
      "7           8.0          Harry Potter  24-08-2003\n",
      "8           NaN     Lord of the Rings  28-09-1994\n",
      "9          10.0  Song of Ice and Fire  20-10-2000\n",
      "10          1.0           Animal Farm  21-12-2020\n"
     ]
    }
   ],
   "source": [
    "import pandas as pd\n",
    "df = pd.read_csv(\"book1.csv\")\n",
    "df.loc[5, \"Book Name\"] = \"Power of Habit\"\n",
    "print(df.to_string())\n",
    "\n",
    "# we can also use if condition like:\n",
    "# if df.loc[x, \"Book number\"] > 8:\n",
    "#     df.loc[x, \"Book number\"] = 100"
   ]
  },
  {
   "cell_type": "markdown",
   "id": "c263350a-4b5c-44ab-a614-7549e3c1cdbc",
   "metadata": {},
   "source": [
    "## Checking Duplicates\n",
    "- use duplicated() to see whether a particular row is duplicate or not\n",
    "- note that all values in the entire row must be duplicate for a row to be duplicate"
   ]
  },
  {
   "cell_type": "code",
   "execution_count": 125,
   "id": "02a7e5e3-1cdc-48b2-87d2-a0751086293a",
   "metadata": {},
   "outputs": [
    {
     "name": "stdout",
     "output_type": "stream",
     "text": [
      "    Book number             Book Name        Date\n",
      "0           1.0           Animal Farm  21-12-2020\n",
      "1           NaN                  1984  11-04-2023\n",
      "2           3.0        Fahrenheit 451  21-01-2019\n",
      "3           4.0                   NaN  22-07-2017\n",
      "4           5.0      Brave new world.  22-08-2020\n",
      "5           6.0                   NaN      5/2009\n",
      "6           7.0       Sherlock Holmes  22-09-2001\n",
      "7           8.0          Harry Potter  24-08-2003\n",
      "8           NaN     Lord of the Rings  28-09-1994\n",
      "9          10.0  Song of Ice and Fire  20-10-2000\n",
      "10          1.0           Animal Farm  21-12-2020\n",
      "======================================================\n",
      "0     False\n",
      "1     False\n",
      "2     False\n",
      "3     False\n",
      "4     False\n",
      "5     False\n",
      "6     False\n",
      "7     False\n",
      "8     False\n",
      "9     False\n",
      "10     True\n",
      "dtype: bool\n"
     ]
    }
   ],
   "source": [
    "df = pd.read_csv(\"book1.csv\")\n",
    "print(df.to_string())\n",
    "print(\"======================================================\")\n",
    "print(df.duplicated())"
   ]
  },
  {
   "cell_type": "markdown",
   "id": "19a356c7-219a-4891-b5e2-c47106030513",
   "metadata": {},
   "source": [
    "## Removing Duplicates\n",
    "- use drop_duplicates() to remove duplicate values.\n",
    "- this will create a new DataFrame\n",
    "- use parameter \"inplace=True\" to drop duplicates in-place."
   ]
  },
  {
   "cell_type": "code",
   "execution_count": 126,
   "id": "42704785-dcb7-4d5b-a515-4990c0a29f40",
   "metadata": {},
   "outputs": [
    {
     "name": "stdout",
     "output_type": "stream",
     "text": [
      "   Book number             Book Name        Date\n",
      "0          1.0           Animal Farm  21-12-2020\n",
      "1          NaN                  1984  11-04-2023\n",
      "2          3.0        Fahrenheit 451  21-01-2019\n",
      "3          4.0                   NaN  22-07-2017\n",
      "4          5.0      Brave new world.  22-08-2020\n",
      "5          6.0                   NaN      5/2009\n",
      "6          7.0       Sherlock Holmes  22-09-2001\n",
      "7          8.0          Harry Potter  24-08-2003\n",
      "8          NaN     Lord of the Rings  28-09-1994\n",
      "9         10.0  Song of Ice and Fire  20-10-2000\n"
     ]
    }
   ],
   "source": [
    "df.drop_duplicates(inplace=True)\n",
    "print(df.to_string())"
   ]
  }
 ],
 "metadata": {
  "kernelspec": {
   "display_name": "Python 3 (ipykernel)",
   "language": "python",
   "name": "python3"
  },
  "language_info": {
   "codemirror_mode": {
    "name": "ipython",
    "version": 3
   },
   "file_extension": ".py",
   "mimetype": "text/x-python",
   "name": "python",
   "nbconvert_exporter": "python",
   "pygments_lexer": "ipython3",
   "version": "3.9.13"
  }
 },
 "nbformat": 4,
 "nbformat_minor": 5
}
